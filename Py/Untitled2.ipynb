{
 "cells": [
  {
   "cell_type": "code",
   "execution_count": 15,
   "id": "065a4c58",
   "metadata": {},
   "outputs": [
    {
     "name": "stdout",
     "output_type": "stream",
     "text": [
      "Please enter the number of coins:\n",
      "# of quarters:0\n",
      "# of dimes:0\n",
      "# of nickels:0\n",
      "# of pennies:1\n",
      "the total is 0 dollars and 1 cents\n"
     ]
    }
   ],
   "source": [
    "print(\"Please enter the number of coins:\")\n",
    "number_of_quarters=float(input(\"# of quarters:\"))\n",
    "number_of_dimes=float(input(\"# of dimes:\"))\n",
    "number_of_nickels=float(input(\"# of nickels:\"))\n",
    "number_of_pennies=float(input(\"# of pennies:\"))\n",
    "\n",
    "onepenny = 1\n",
    "onenickel = onepenny * 5\n",
    "onedime = onepenny * 10\n",
    "onequarter = onepenny * 25\n",
    "\n",
    "pennies_value = onepenny * number_of_pennies\n",
    "nickels_value = onenickel * number_of_nickels\n",
    "dimes_value = onedime * number_of_dimes\n",
    "quarters_value = onequarter * number_of_quarters\n",
    "\n",
    "total_money_value = pennies_value + nickels_value + dimes_value + quarters_value\n",
    "\n",
    "total_dollars = int(total_money_value/100)\n",
    "total_cents = int(((total_money_value - total_dollars*100)))\n",
    "\n",
    "print(\"the total is\", total_dollars, \"dollars and\", total_cents, \"cents\")"
   ]
  },
  {
   "cell_type": "code",
   "execution_count": null,
   "id": "a026e64a",
   "metadata": {},
   "outputs": [],
   "source": []
  },
  {
   "cell_type": "code",
   "execution_count": null,
   "id": "162a62b0",
   "metadata": {},
   "outputs": [],
   "source": []
  },
  {
   "cell_type": "code",
   "execution_count": null,
   "id": "144b82c5",
   "metadata": {},
   "outputs": [],
   "source": []
  }
 ],
 "metadata": {
  "kernelspec": {
   "display_name": "Python 3",
   "language": "python",
   "name": "python3"
  },
  "language_info": {
   "codemirror_mode": {
    "name": "ipython",
    "version": 3
   },
   "file_extension": ".py",
   "mimetype": "text/x-python",
   "name": "python",
   "nbconvert_exporter": "python",
   "pygments_lexer": "ipython3",
   "version": "3.8.8"
  }
 },
 "nbformat": 4,
 "nbformat_minor": 5
}
