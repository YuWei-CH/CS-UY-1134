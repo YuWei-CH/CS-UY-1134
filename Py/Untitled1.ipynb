{
 "cells": [
  {
   "cell_type": "code",
   "execution_count": 28,
   "id": "e9010a93",
   "metadata": {},
   "outputs": [
    {
     "name": "stdout",
     "output_type": "stream",
     "text": [
      "[1, 'jusw', 47, 4, 5]\n",
      "5\n",
      "2\n",
      "a<2\n"
     ]
    }
   ],
   "source": [
    "list =[1,'jusw',47,4,5]\n",
    "tiny_list = ['d',34]\n",
    "\n",
    "print(list)\n",
    "print(list[4])\n",
    "\n",
    "1/2\n",
    "\n",
    "n=\"\"\n",
    "\n",
    "if n:\n",
    "    print(1)\n",
    "else:\n",
    "    print(2)\n",
    "\n",
    "    a = 1\n",
    "while a > 2:\n",
    "    print(\"a>2\")\n",
    "    a+=1\n",
    "else:\n",
    "    print(\"a<2\")"
   ]
  },
  {
   "cell_type": "code",
   "execution_count": null,
   "id": "d948b77a",
   "metadata": {},
   "outputs": [],
   "source": []
  },
  {
   "cell_type": "code",
   "execution_count": null,
   "id": "02326d18",
   "metadata": {},
   "outputs": [],
   "source": []
  },
  {
   "cell_type": "code",
   "execution_count": null,
   "id": "9cfa4ddf",
   "metadata": {},
   "outputs": [],
   "source": []
  }
 ],
 "metadata": {
  "kernelspec": {
   "display_name": "Python 3",
   "language": "python",
   "name": "python3"
  },
  "language_info": {
   "codemirror_mode": {
    "name": "ipython",
    "version": 3
   },
   "file_extension": ".py",
   "mimetype": "text/x-python",
   "name": "python",
   "nbconvert_exporter": "python",
   "pygments_lexer": "ipython3",
   "version": "3.8.8"
  }
 },
 "nbformat": 4,
 "nbformat_minor": 5
}
