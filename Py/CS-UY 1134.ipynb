{
 "cells": [
  {
   "cell_type": "code",
   "execution_count": null,
   "id": "7d48f4b0",
   "metadata": {},
   "outputs": [],
   "source": [
    "09/08/2021\n",
    "Ltay Tal\n",
    "itay.tal@nyu.edu\n",
    "\n",
    "IDE:PyCharm\n",
    "    IDLE\n",
    "\n",
    "\n",
    "\n"
   ]
  }
 ],
 "metadata": {
  "kernelspec": {
   "display_name": "Python 3",
   "language": "python",
   "name": "python3"
  },
  "language_info": {
   "codemirror_mode": {
    "name": "ipython",
    "version": 3
   },
   "file_extension": ".py",
   "mimetype": "text/x-python",
   "name": "python",
   "nbconvert_exporter": "python",
   "pygments_lexer": "ipython3",
   "version": "3.8.8"
  }
 },
 "nbformat": 4,
 "nbformat_minor": 5
}
