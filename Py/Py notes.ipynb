{
 "cells": [
  {
   "cell_type": "code",
   "execution_count": 20,
   "id": "b7104049",
   "metadata": {},
   "outputs": [
    {
     "name": "stdout",
     "output_type": "stream",
     "text": [
      "The Zen of Python, by Tim Peters\n",
      "\n",
      "Beautiful is better than ugly.\n",
      "Explicit is better than implicit.\n",
      "Simple is better than complex.\n",
      "Complex is better than complicated.\n",
      "Flat is better than nested.\n",
      "Sparse is better than dense.\n",
      "Readability counts.\n",
      "Special cases aren't special enough to break the rules.\n",
      "Although practicality beats purity.\n",
      "Errors should never pass silently.\n",
      "Unless explicitly silenced.\n",
      "In the face of ambiguity, refuse the temptation to guess.\n",
      "There should be one-- and preferably only one --obvious way to do it.\n",
      "Although that way may not be obvious at first unless you're Dutch.\n",
      "Now is better than never.\n",
      "Although never is often better than *right* now.\n",
      "If the implementation is hard to explain, it's a bad idea.\n",
      "If the implementation is easy to explain, it may be a good idea.\n",
      "Namespaces are one honking great idea -- let's do more of those!\n"
     ]
    }
   ],
   "source": [
    "#python 之禅\n",
    "import this\n"
   ]
  },
  {
   "cell_type": "code",
   "execution_count": 3,
   "id": "28bbfacf",
   "metadata": {},
   "outputs": [
    {
     "name": "stdout",
     "output_type": "stream",
     "text": [
      "01345678\n",
      "013\n",
      "0134567\n",
      "0357\n",
      "0134567801345678\n",
      "01345678hello\n",
      "hello \n",
      "world\n",
      "hello \\nworld\n"
     ]
    }
   ],
   "source": [
    "str='01345678'\n",
    "print(str)\n",
    "print(str[0:3])\n",
    "print(str[:-1])\n",
    "print(str[0:7:2])\n",
    "print(str*2)\n",
    "print(str+\"hello\")\n",
    "\n",
    "\n",
    "print(\"hello \\nworld\")\n",
    "print(r'hello \\nworld')"
   ]
  },
  {
   "cell_type": "code",
   "execution_count": 5,
   "id": "2e2e47a9",
   "metadata": {
    "scrolled": false
   },
   "outputs": [
    {
     "name": "stdout",
     "output_type": "stream",
     "text": [
      "\n",
      "\n",
      "按下 enter 键后退出。hdeh\n"
     ]
    },
    {
     "data": {
      "text/plain": [
       "'hdeh'"
      ]
     },
     "execution_count": 5,
     "metadata": {},
     "output_type": "execute_result"
    }
   ],
   "source": [
    "input(\"\\n\\n按下 enter 键后退出。\") # input convert any input words to String type and return it"
   ]
  },
  {
   "cell_type": "code",
   "execution_count": 2,
   "id": "9cab8e8b",
   "metadata": {},
   "outputs": [
    {
     "name": "stdout",
     "output_type": "stream",
     "text": [
      "a\n",
      "b\n",
      "xy"
     ]
    }
   ],
   "source": [
    "print(\"a\")\n",
    "print(\"b\")\n",
    "print(\"x\",end=\"\")\n",
    "print(\"y\",end=\"\")"
   ]
  },
  {
   "cell_type": "code",
   "execution_count": 3,
   "id": "8d8fd45b",
   "metadata": {},
   "outputs": [
    {
     "name": "stdout",
     "output_type": "stream",
     "text": [
      "1 1 1\n",
      "1 2 hi\n"
     ]
    }
   ],
   "source": [
    "a=b=c=1\n",
    "print(a,b,c)\n",
    "a,b,c = 1,2,\"hi\"\n",
    "print(a,b,c)\n"
   ]
  },
  {
   "cell_type": "code",
   "execution_count": 20,
   "id": "9bebe55d",
   "metadata": {},
   "outputs": [
    {
     "name": "stdout",
     "output_type": "stream",
     "text": [
      "peter\n",
      "pete\n",
      "ter\n",
      "pete\n",
      "True\n",
      "Peter\n",
      "5\n",
      "PETER\n",
      "peter\n"
     ]
    }
   ],
   "source": [
    "# String\n",
    "str = \"peter\"\n",
    "print(str)\n",
    "print(str[0:4])\n",
    "print(str[2:])\n",
    "print(str[-6:-1])\n",
    "print(\"p\" in str)#某个字符串是否被另外一个包含\n",
    "print(str.capitalize())\n",
    "print(len(str))\n",
    "print(str.upper())\n",
    "print(str.lower())"
   ]
  },
  {
   "cell_type": "code",
   "execution_count": 26,
   "id": "b863ef9d",
   "metadata": {},
   "outputs": [
    {
     "name": "stdout",
     "output_type": "stream",
     "text": [
      "['abc', 10, 'dfg', 10.5, True]\n",
      "['abc', 10, 'dfg', 10.5]\n",
      "['abc', 'dfg']\n",
      "['abc', 10, 'dfg', 10.5, False]\n",
      "[9, 10.5, False]\n",
      "[4, 3, 2, 1]\n",
      "9\n",
      "[1, 2, 3, 4, 5, 6, 7, 8, 9, 10, 11, 12]\n",
      "[2, 3, 4, 5, 6, 7, 8, 9, 10, 11, 12]\n",
      "True\n"
     ]
    }
   ],
   "source": [
    "# List\n",
    "list=[\"abc\",10,\"dfg\",10.5,True]\n",
    "print(list)\n",
    "print(list[0:4])\n",
    "print(list[0:4:2])#步长是2\n",
    "\n",
    "list[4] = False\n",
    "print(list)\n",
    "list[0:3] = [9]#0到3都设置成9\n",
    "print(list)\n",
    "\n",
    "list_num = [1,2,3,4]\n",
    "reverse = list_num[-1::-1] # 第一个-1表示从倒数第一位开始读取，中间为“ ”代表截止为最后一位，步长-1代表倒序读取\n",
    "print(reverse)\n",
    "\n",
    "list = [1,2,3,4,5,6,7,8,9]\n",
    "print(len(list))\n",
    "list = list + [10,11,12]\n",
    "print(list)\n",
    "del list[0]\n",
    "print(list)\n",
    "print(3 in list)"
   ]
  },
  {
   "cell_type": "code",
   "execution_count": 42,
   "id": "9d8922ca",
   "metadata": {},
   "outputs": [
    {
     "name": "stdout",
     "output_type": "stream",
     "text": [
      "('abc', 934, 'uiuw', 10.4, True)\n",
      "abc\n",
      "(934, 'uiuw')\n",
      "('uiuw', 10.4)\n",
      "('abc', 934, 'uiuw', 10.4, True, 'hi', 'my f')\n",
      "['google', 'facebook', 'amazon', 'twitter']\n",
      "(1, 2, 3, 4, 5, 6)\n",
      "6\n"
     ]
    },
    {
     "ename": "NameError",
     "evalue": "name 'tup3' is not defined",
     "output_type": "error",
     "traceback": [
      "\u001b[0;31m---------------------------------------------------------------------------\u001b[0m",
      "\u001b[0;31mNameError\u001b[0m                                 Traceback (most recent call last)",
      "\u001b[0;32m<ipython-input-42-728f4b0e1351>\u001b[0m in \u001b[0;36m<module>\u001b[0;34m\u001b[0m\n\u001b[1;32m     22\u001b[0m \u001b[0mprint\u001b[0m\u001b[0;34m(\u001b[0m\u001b[0mlen\u001b[0m\u001b[0;34m(\u001b[0m\u001b[0mtup3\u001b[0m\u001b[0;34m)\u001b[0m\u001b[0;34m)\u001b[0m\u001b[0;34m\u001b[0m\u001b[0;34m\u001b[0m\u001b[0m\n\u001b[1;32m     23\u001b[0m \u001b[0;32mdel\u001b[0m \u001b[0mtup3\u001b[0m \u001b[0;31m#tuple无法修改内部元素，所以删除的illegal的，但是这一整个tuple被删除\u001b[0m\u001b[0;34m\u001b[0m\u001b[0;34m\u001b[0m\u001b[0m\n\u001b[0;32m---> 24\u001b[0;31m \u001b[0mprint\u001b[0m\u001b[0;34m(\u001b[0m\u001b[0mtup3\u001b[0m\u001b[0;34m)\u001b[0m\u001b[0;34m\u001b[0m\u001b[0;34m\u001b[0m\u001b[0m\n\u001b[0m\u001b[1;32m     25\u001b[0m \u001b[0;34m\u001b[0m\u001b[0m\n\u001b[1;32m     26\u001b[0m \u001b[0;31m#严禁修改数组\u001b[0m\u001b[0;34m\u001b[0m\u001b[0;34m\u001b[0m\u001b[0;34m\u001b[0m\u001b[0m\n",
      "\u001b[0;31mNameError\u001b[0m: name 'tup3' is not defined"
     ]
    }
   ],
   "source": [
    "# tuple 类似于List但是不能修改\n",
    "tuple1 = ('abc',934,'uiuw',10.4,True)\n",
    "tuple2= ('hi','my f')\n",
    "print(tuple1)\n",
    "print(tuple1[0])\n",
    "print(tuple1[1:3])\n",
    "print(tuple1[2:4])\n",
    "print(tuple1 + tuple2)\n",
    "\n",
    "\"\"\"\n",
    "tuple(iteralbe)\n",
    "将可迭代系列数据类型转换为tuple\n",
    "\"\"\"\n",
    "list1=[\"google\",\"facebook\",\"amazon\",\"twitter\"]\n",
    "tuple3=(list1)\n",
    "print(tuple3)\n",
    "\n",
    "tup1 = (1,2,3)\n",
    "tup2 = (4,5,6)\n",
    "tup3 = tup1 + tup2\n",
    "print(tup3)\n",
    "print(len(tup3))\n",
    "del tup3 #tuple无法修改内部元素，所以删除的illegal的，但是这一整个tuple被删除\n",
    "print(tup3)\n",
    "\n",
    "#严禁修改数组\n",
    "tuple[0]='dfg' #会报错，illegal action---'tuple' object does not support item assignment"
   ]
  },
  {
   "cell_type": "code",
   "execution_count": 62,
   "id": "80ded232",
   "metadata": {},
   "outputs": [
    {
     "name": "stdout",
     "output_type": "stream",
     "text": [
      "{'Jinan', 'Hello', 'Zibo', 'hello', 'hi'}\n",
      "{'Jinan', 'Hello', 'Zibo', 'and,or,no', 'hello', 'why not', 'hi'}\n",
      "{'Hello', 'Zibo', 'and,or,no', 'hello', 'why not', 'hi'}\n",
      "Hello\n",
      "在的哥\n",
      "{2, 4}\n",
      "{1, 2, 3, 4, 5, 7, 9}\n",
      "{1, 3, 5}\n",
      "{2, 4, 7, 9}\n"
     ]
    }
   ],
   "source": [
    "# Set 里面不会包含重复的元素\n",
    "setdemo= {'hi','hello','Jinan','Zibo','hi','Hello'}\n",
    "print(setdemo) #输出结果会遵循 ACSII 的顺序，upper>lower,alphabetical order\n",
    "setdemo.add(\"why not\")\n",
    "setdemo.update([\"and,or,no\"])#update也可以增加，里面的元素会是list，tuple，dict\n",
    "print(setdemo)\n",
    "setdemo.remove('Jinan')#删除set中的元素\n",
    "print(setdemo)\n",
    "p = setdemo.pop() #set 集合的 pop 方法会对集合进行无序的排列，然后将这个无序排列集合的左面第一个元素进行删除\n",
    "print(p)\n",
    "\n",
    "# 判断set中是否有某个元素\n",
    "if 'hi' in setdemo:\n",
    "    print('在的哥')\n",
    "else:\n",
    "    print('哟,真的不在')\n",
    "    \n",
    "#集合运算\n",
    "set1={1,2,3,4,5}\n",
    "set2={1,3,5,7,9}\n",
    "print(set1-set2) #a与b的差集 == a 中有那些 b中没有\n",
    "print(set1 | set2) #a与b的并集\n",
    "print(set1 & set2) #a与b的交集，a b中相同的\n",
    "print(set1^set2) # a 和 b 中不同时存在的元素"
   ]
  },
  {
   "cell_type": "code",
   "execution_count": 57,
   "id": "408b8ae5",
   "metadata": {},
   "outputs": [
    {
     "name": "stdout",
     "output_type": "stream",
     "text": [
      "value-1\n",
      "你好\n",
      "name:peter\n",
      "Yuwei\n",
      "{'birth': 1226, 'boy?': True, 'age': 18, 'school': 'NYU'}\n",
      "dict_keys(['birth', 'boy?', 'age', 'school'])\n",
      "dict_values([1226, True, 18, 'NYU'])\n",
      "{'birth': 1226, 'boy?': True, 'school': 'NYU'}\n",
      "33\n"
     ]
    }
   ],
   "source": [
    "# Dictionary 字典是无序的对象集合,利用 Key-Value 获取\n",
    "dict={}\n",
    "dict['key1'] = \"value-1\"\n",
    "dict[2]=\"你好\"\n",
    "print(dict['key1'])\n",
    "print(dict[2])\n",
    "\n",
    "demodict = {'name':'peter','birth':1226,'boy?':True,'age':18}\n",
    "print(\"name:\" + demodict[\"name\"])\n",
    "demodict[\"name\"] = \"Yuwei\"#修改字典某一值\n",
    "demodict[\"school\"] = \"NYU\"#增加键值\n",
    "print(demodict['name']) \n",
    "demodict.pop('name') #删除某个值\n",
    "print(demodict)\n",
    "\n",
    "#输出所有的key和value\n",
    "print(demodict.keys())\n",
    "print(demodict.values())\n",
    "\n",
    "del demodict['age']\n",
    "print(demodict)\n",
    "demodict.clear()#清空字典内部的内容\n",
    "del demodict#删除字典\n",
    "\n",
    "\"\"\"\n",
    "dict的特性：\n",
    "1.同一个键不能出现两次。创建时如果同一个键被赋值两次，后一个值会被记住\n",
    "2.健值必须不可变，所以num，String，tuple都可以，但是list不可以，due to list is mutable\n",
    "\"\"\"\n",
    "dict1 = {\"name\":11,\"name\":33}\n",
    "print(dict1[\"name\"])"
   ]
  },
  {
   "cell_type": "code",
   "execution_count": 52,
   "id": "4fbc92ed",
   "metadata": {},
   "outputs": [
    {
     "ename": "NameError",
     "evalue": "name 's' is not defined",
     "output_type": "error",
     "traceback": [
      "\u001b[0;31m---------------------------------------------------------------------------\u001b[0m",
      "\u001b[0;31mNameError\u001b[0m                                 Traceback (most recent call last)",
      "\u001b[0;32m<ipython-input-52-1e959b4e2abc>\u001b[0m in \u001b[0;36m<module>\u001b[0;34m\u001b[0m\n\u001b[1;32m      1\u001b[0m \u001b[0;31m# Conversion\u001b[0m\u001b[0;34m\u001b[0m\u001b[0;34m\u001b[0m\u001b[0;34m\u001b[0m\u001b[0m\n\u001b[1;32m      2\u001b[0m \u001b[0;34m\u001b[0m\u001b[0m\n\u001b[0;32m----> 3\u001b[0;31m \u001b[0mtuple\u001b[0m\u001b[0;34m(\u001b[0m\u001b[0ms\u001b[0m\u001b[0;34m)\u001b[0m\u001b[0;31m# s转换为tuple\u001b[0m\u001b[0;34m\u001b[0m\u001b[0;34m\u001b[0m\u001b[0m\n\u001b[0m\u001b[1;32m      4\u001b[0m \u001b[0mlist\u001b[0m\u001b[0;34m(\u001b[0m\u001b[0ms\u001b[0m\u001b[0;34m)\u001b[0m\u001b[0;31m# s转换为list\u001b[0m\u001b[0;34m\u001b[0m\u001b[0;34m\u001b[0m\u001b[0m\n\u001b[1;32m      5\u001b[0m \u001b[0mset\u001b[0m\u001b[0;34m(\u001b[0m\u001b[0ms\u001b[0m\u001b[0;34m)\u001b[0m\u001b[0;31m# s转换为set\u001b[0m\u001b[0;34m\u001b[0m\u001b[0;34m\u001b[0m\u001b[0m\n",
      "\u001b[0;31mNameError\u001b[0m: name 's' is not defined"
     ]
    }
   ],
   "source": [
    "# Conversion\n",
    "\n",
    "tuple(s)# s转换为tuple\n",
    "list(s)# s转换为list\n",
    "set(s)# s转换为set\n",
    "dict(d)# d转换为dictionary，但是d必须是（key，value）格式的tuple/list"
   ]
  },
  {
   "cell_type": "code",
   "execution_count": 28,
   "id": "c2a778f7",
   "metadata": {},
   "outputs": [
    {
     "data": {
      "text/plain": [
       "'\\n此\\n乃\\n多\\n行\\n注\\n释\\n'"
      ]
     },
     "execution_count": 28,
     "metadata": {},
     "output_type": "execute_result"
    }
   ],
   "source": [
    "\"\"\"\n",
    "此\n",
    "乃\n",
    "多\n",
    "行\n",
    "注\n",
    "释\n",
    "\"\"\""
   ]
  },
  {
   "cell_type": "code",
   "execution_count": 35,
   "id": "5021c2b5",
   "metadata": {},
   "outputs": [
    {
     "name": "stdout",
     "output_type": "stream",
     "text": [
      "2.1\n",
      "1\n",
      "16679880978201\n",
      "2\n",
      "21\n",
      "False\n",
      "True\n",
      "True\n",
      "False\n",
      "True\n",
      "False\n"
     ]
    }
   ],
   "source": [
    "a=21\n",
    "b=10\n",
    "c=0\n",
    "\n",
    "a+b\n",
    "a-b\n",
    "a*b\n",
    "print(a/b)# 包含float\n",
    "print(a%b)# 取余/取模\n",
    "print(a**b)# a的b次方\n",
    "print(a//b)# 除法，向下取整\n",
    "c += a # c=c+a,所有运算符都可以\n",
    "print(c)\n",
    "\n",
    "\n",
    "print(a==b)\n",
    "print(a!=b)\n",
    "print(a>b)\n",
    "print(a<b)\n",
    "print(a>=b)\n",
    "print(a<=b)"
   ]
  },
  {
   "cell_type": "code",
   "execution_count": 6,
   "id": "dbc98604",
   "metadata": {},
   "outputs": [
    {
     "name": "stdout",
     "output_type": "stream",
     "text": [
      "1\n",
      "59\n",
      "58\n",
      "-52\n"
     ]
    }
   ],
   "source": [
    "# Python 位运算\n",
    "a = 0b00110011\n",
    "b = 0b00001001\n",
    "\n",
    "print(a&b)\n",
    "print(a|b)\n",
    "print(a^b)\n",
    "print(~a)"
   ]
  },
  {
   "cell_type": "code",
   "execution_count": null,
   "id": "cba92b1d",
   "metadata": {},
   "outputs": [],
   "source": [
    "#数学函数\n",
    "\n",
    "math.abs(x) #绝对值 \n",
    "math.ceil(x)#取上值\n",
    "math.exp(x)#e的x次幂(ex)\n",
    "math.flow(x)#取下值\n",
    "math.log(x)#取对数\n",
    "math.log10(x)#取10基对数\n",
    "math.max()#返回给定序列的最大值\n",
    "math.min()#返回给定序列的最小值\n",
    "math.round(x [,n])#四舍五入，n代表小数位数\n",
    "math.sqrt()#返回数字的平方根\n",
    "math.random()#随机数\n",
    "math.shuffle(list[])#将序列的所有元素随机排序\n",
    "\"\"\"常量\"\"\"\n",
    "pi\n",
    "e"
   ]
  },
  {
   "cell_type": "code",
   "execution_count": 12,
   "id": "c706a32f",
   "metadata": {},
   "outputs": [
    {
     "name": "stdout",
     "output_type": "stream",
     "text": [
      "line hello world\n",
      "syw'unbengable'\n",
      "syw\n",
      " hello\n"
     ]
    }
   ],
   "source": [
    "#转义字符\n",
    "\n",
    "print(\"line \\\n",
    "hello \\\n",
    "world\")\n",
    "\n",
    "print(\"syw\\'unbengable'\")#\\用来转义，展现后面的内容\n",
    "print(\"syw\\n hello\")# 换行\n",
    "\n"
   ]
  },
  {
   "cell_type": "code",
   "execution_count": null,
   "id": "b3857f28",
   "metadata": {},
   "outputs": [],
   "source": [
    "# conditional control\n",
    "\n",
    "b = 10\n",
    "if b > 10:\n",
    "    print(\">10\")\n",
    "elif b = 10:\n",
    "    print(\"=10\")\n",
    "else:\n",
    "    print(\"<10\")"
   ]
  },
  {
   "cell_type": "code",
   "execution_count": 82,
   "id": "3e479de3",
   "metadata": {},
   "outputs": [
    {
     "name": "stdout",
     "output_type": "stream",
     "text": [
      "10\n",
      "9\n",
      "8\n",
      "7\n",
      "6\n",
      "5\n",
      "google\n",
      "facebook\n",
      "bilibili\n",
      "Tiktok\n",
      "['google', 'facebook', 'bilibili', 'Tiktok']\n",
      "0\n",
      "1\n",
      "2\n",
      "3\n",
      "4\n",
      "正常for loop\n",
      "3\n",
      "4\n",
      "5\n",
      "6\n",
      "指定范围的for loop\n",
      "0\n",
      "2\n",
      "4\n",
      "6\n",
      "8\n",
      "带步长的for loop\n",
      "0 a\n",
      "1 b\n",
      "2 c\n",
      "3 d\n",
      "['A', 'B', 'C', 'D']\n",
      "4\n",
      "3\n",
      "break-------over\n",
      "4\n",
      "3\n",
      "1\n",
      "0\n",
      "continue--------over\n"
     ]
    }
   ],
   "source": [
    "# loop\n",
    "\n",
    "#while\n",
    "b = 10\n",
    "while(b>5):\n",
    "    print(b)\n",
    "    b -=1\n",
    "else:\n",
    "    print(b)\n",
    "\n",
    "#for (like) for-each in Java\n",
    "\n",
    "List1 = [\"google\",\"facebook\",\"bilibili\",\"Tiktok\"]\n",
    "for item in List1:\n",
    "    print(item)\n",
    "    item = \"ni\"\n",
    "print(List1) # data是reference，immutable，所以不会变化\n",
    "\n",
    "# for-range() like normal for-loop in JAVA\n",
    "#括号内parameter可为负数\n",
    "\n",
    "for i in range(5):\n",
    "    print(i)\n",
    "print(\"正常for loop\")\n",
    "    \n",
    "for i in range(3,7):\n",
    "    print(i)   \n",
    "print(\"指定范围的for loop\")\n",
    "    \n",
    "for i in range(0,10,2):\n",
    "    print(i)\n",
    "print(\"带步长的for loop\")\n",
    "\n",
    "# combination for loop\n",
    "list2=[\"a\",\"b\",\"c\",\"d\"]\n",
    "for i in range(len(list2)):\n",
    "    print(i,list2[i])\n",
    "    list2[i] = list2[i].upper() #可以修改container里面的item\n",
    "print(list2)\n",
    "\n",
    "#break and continue\n",
    "n=5\n",
    "while(n>0):\n",
    "    n-=1\n",
    "    if n ==2:\n",
    "        break #循环也就因此结束了\n",
    "    print(n)\n",
    "print(\"break-------over\")\n",
    "\n",
    "n = 5\n",
    "while(n>0):\n",
    "    n-=1\n",
    "    if n == 2:\n",
    "        continue #仅仅是本轮循环结束了\n",
    "    print(n)\n",
    "print(\"continue--------over\")\n"
   ]
  },
  {
   "cell_type": "code",
   "execution_count": 90,
   "id": "cf74fc94",
   "metadata": {},
   "outputs": [
    {
     "name": "stdout",
     "output_type": "stream",
     "text": [
      "1\n",
      "2\n",
      "3 4 5 6 7 8 9 10 None\n"
     ]
    }
   ],
   "source": [
    "# Iterators and generators\n",
    "list1 = [1,2,3,4,5,6,7,8,9,10]\n",
    "it = iter(list1)#转化为iterators\n",
    "print(next(it))\n",
    "print(next(it))\n",
    "\n",
    "for x in it:\n",
    "    print(x,end =' ') #只会遍历余下的 item\n",
    "\n",
    "# \"class\"\n",
    "class MyNumbers:\n",
    "  def __iter__(self):\n",
    "    self.a = 1\n",
    "    return self\n",
    " \n",
    "  def __next__(self):\n",
    "    def __next__(self):\n",
    "        if self.a <= 8:\n",
    "          x = self.a\n",
    "          self.a += 1\n",
    "          return x\n",
    "        else:\n",
    "          raise StopIteration #停止迭代\n",
    " \n",
    "myclass = MyNumbers()\n",
    "myiter = iter(myclass)\n",
    " \n",
    "print(next(myiter))\n"
   ]
  },
  {
   "cell_type": "code",
   "execution_count": 93,
   "id": "defde28c",
   "metadata": {},
   "outputs": [
    {
     "name": "stdout",
     "output_type": "stream",
     "text": [
      "a<b\n",
      "hi\n",
      "hi\n",
      "021226\n"
     ]
    }
   ],
   "source": [
    "# function\n",
    "\n",
    "def hello(a,b):\n",
    "    if a>b:\n",
    "        print(\"a>b\")\n",
    "    elif a==b:\n",
    "        print(\"a=b\")\n",
    "    else:\n",
    "        print(\"a<b\")\n",
    "        \n",
    "hello(3,4)\n",
    "\n",
    "\n",
    "def student(age = 11, name = \"hi\",birth = \"021226\"):\n",
    "    print(age)\n",
    "    print(name)\n",
    "    print(birth)\n",
    "student(\"hi\")\n"
   ]
  },
  {
   "cell_type": "code",
   "execution_count": 100,
   "id": "8f2a4ece",
   "metadata": {},
   "outputs": [
    {
     "name": "stdout",
     "output_type": "stream",
     "text": [
      "请输入一个数字6\n",
      "I always stay here\n"
     ]
    },
    {
     "ename": "Exception",
     "evalue": "x 不能大于 5。x 的值为: 10",
     "output_type": "error",
     "traceback": [
      "\u001b[0;31m---------------------------------------------------------------------------\u001b[0m",
      "\u001b[0;31mException\u001b[0m                                 Traceback (most recent call last)",
      "\u001b[0;32m<ipython-input-100-7f1f56a43b79>\u001b[0m in \u001b[0;36m<module>\u001b[0;34m\u001b[0m\n\u001b[1;32m     25\u001b[0m \u001b[0mx\u001b[0m \u001b[0;34m=\u001b[0m \u001b[0;36m10\u001b[0m\u001b[0;34m\u001b[0m\u001b[0;34m\u001b[0m\u001b[0m\n\u001b[1;32m     26\u001b[0m \u001b[0;32mif\u001b[0m \u001b[0mx\u001b[0m \u001b[0;34m>\u001b[0m \u001b[0;36m5\u001b[0m\u001b[0;34m:\u001b[0m\u001b[0;34m\u001b[0m\u001b[0;34m\u001b[0m\u001b[0m\n\u001b[0;32m---> 27\u001b[0;31m     \u001b[0;32mraise\u001b[0m \u001b[0mException\u001b[0m\u001b[0;34m(\u001b[0m\u001b[0;34m'x 不能大于 5。x 的值为: {}'\u001b[0m\u001b[0;34m.\u001b[0m\u001b[0mformat\u001b[0m\u001b[0;34m(\u001b[0m\u001b[0mx\u001b[0m\u001b[0;34m)\u001b[0m\u001b[0;34m)\u001b[0m\u001b[0;34m\u001b[0m\u001b[0;34m\u001b[0m\u001b[0m\n\u001b[0m",
      "\u001b[0;31mException\u001b[0m: x 不能大于 5。x 的值为: 10"
     ]
    }
   ],
   "source": [
    "# try/except\n",
    "\n",
    "\"\"\"\n",
    "1.执行 try 子句\n",
    "2.如果没有异常发生，忽略 except 子句，try 子句执行后结束。\n",
    "3.如果在执行 try 子句的过程中发生了异常，那么 try 子句余下的部分将被忽略。\n",
    "    如果异常的类型和 except 之后的名称相符，那么对应的 except 子句将被执行。\n",
    "4.如果一个异常没有与任何的 except 匹配，那么这个异常将会传递给上层的 try 中。\n",
    "\"\"\"\n",
    "while True:\n",
    "    try:\n",
    "        x = int(input(\"请输入一个数字\"))\n",
    "        break\n",
    "    except (ValueError, RuntimeError, TypeError, NameError): #一个except语句可以处理多个异常，把它们构成tuple存放在一起\n",
    "        print(\"您输入的不是数字\")\n",
    "    else:\n",
    "            print(\"num\")#可以用来处理except没有捕获的异常\n",
    "    finally:\n",
    "        print(\"I always stay here\")#无论有没有异常都会执行的\n",
    "\n",
    "\"\"\"\n",
    "抛出异常\n",
    "\n",
    "\"\"\"\n",
    "x = 10\n",
    "if x > 5:\n",
    "    raise Exception('x 不能大于 5。x 的值为: {}'.format(x))"
   ]
  },
  {
   "cell_type": "code",
   "execution_count": 104,
   "id": "0655a04a",
   "metadata": {},
   "outputs": [
    {
     "name": "stdout",
     "output_type": "stream",
     "text": [
      "12345\n",
      "hello world\n",
      "3 hello\n"
     ]
    }
   ],
   "source": [
    "class Myclass:\n",
    "    i = 12345\n",
    "    def f(self):\n",
    "        return \"hello world\"\n",
    "x = Myclass()\n",
    "print(x.i)\n",
    "print(x.f())\n",
    "\n",
    "\n",
    "class demo:\n",
    "    def __init__(self,num,str):\n",
    "        self.n=num\n",
    "        self.s = str\n",
    "\n",
    "x = demo(3,\"hello\")\n",
    "print(x.n, x.s)"
   ]
  },
  {
   "cell_type": "code",
   "execution_count": 106,
   "id": "732c6f8c",
   "metadata": {},
   "outputs": [
    {
     "name": "stdout",
     "output_type": "stream",
     "text": [
      "我叫 Tim，我是一个演说家，我演讲的主题是 Python\n"
     ]
    }
   ],
   "source": [
    "#多重继承\n",
    "class people:\n",
    "    #定义基本属性\n",
    "    name = ''\n",
    "    age = 0\n",
    "    #定义私有属性,私有属性在类外部无法直接进行访问\n",
    "    __weight = 0 #开头两个下划线\n",
    "    #定义构造方法\n",
    "    def __init__(self,n,a,w):\n",
    "        self.name = n\n",
    "        self.age = a\n",
    "        self.__weight = w\n",
    "    def speak(self):\n",
    "        print(\"%s 说: 我 %d 岁。\" %(self.name,self.age))\n",
    " \n",
    "#单继承示例\n",
    "class student(people):\n",
    "    grade = ''\n",
    "    def __init__(self,n,a,w,g):\n",
    "        #调用父类的构函\n",
    "        people.__init__(self,n,a,w)\n",
    "        self.grade = g\n",
    "    #覆写父类的方法\n",
    "    def speak(self):\n",
    "        print(\"%s 说: 我 %d 岁了，我在读 %d 年级\"%(self.name,self.age,self.grade))\n",
    " \n",
    "#另一个类，多重继承之前的准备\n",
    "class speaker():\n",
    "    topic = ''\n",
    "    name = ''\n",
    "    def __init__(self,n,t):\n",
    "        self.name = n\n",
    "        self.topic = t\n",
    "    def speak(self):\n",
    "        print(\"我叫 %s，我是一个演说家，我演讲的主题是 %s\"%(self.name,self.topic))\n",
    " \n",
    "#多重继承\n",
    "class sample(speaker,student):\n",
    "    a =''\n",
    "    def __init__(self,n,a,w,g,t):\n",
    "        student.__init__(self,n,a,w,g)\n",
    "        speaker.__init__(self,n,t)\n",
    " \n",
    "test = sample(\"Tim\",25,80,4,\"Python\")\n",
    "test.speak()   #方法名同，默认调用的是在括号中排前地父类的方法"
   ]
  },
  {
   "cell_type": "code",
   "execution_count": 107,
   "id": "330f4a35",
   "metadata": {},
   "outputs": [
    {
     "name": "stdout",
     "output_type": "stream",
     "text": [
      "Vector (7, 8)\n"
     ]
    }
   ],
   "source": [
    "#运算符，内置方法重载\n",
    "class Vector:\n",
    "   def __init__(self, a, b):\n",
    "      self.a = a\n",
    "      self.b = b\n",
    " \n",
    "   def __str__(self):\n",
    "      return 'Vector (%d, %d)' % (self.a, self.b)\n",
    "   \n",
    "   def __add__(self,other):\n",
    "      return Vector(self.a + other.a, self.b + other.b)\n",
    " \n",
    "v1 = Vector(2,10)\n",
    "v2 = Vector(5,-2)\n",
    "print (v1 + v2)"
   ]
  },
  {
   "cell_type": "code",
   "execution_count": null,
   "id": "68d0b159",
   "metadata": {},
   "outputs": [],
   "source": []
  }
 ],
 "metadata": {
  "kernelspec": {
   "display_name": "Python 3",
   "language": "python",
   "name": "python3"
  },
  "language_info": {
   "codemirror_mode": {
    "name": "ipython",
    "version": 3
   },
   "file_extension": ".py",
   "mimetype": "text/x-python",
   "name": "python",
   "nbconvert_exporter": "python",
   "pygments_lexer": "ipython3",
   "version": "3.8.8"
  }
 },
 "nbformat": 4,
 "nbformat_minor": 5
}
