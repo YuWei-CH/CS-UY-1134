{
 "cells": [
  {
   "cell_type": "code",
   "execution_count": 13,
   "metadata": {},
   "outputs": [],
   "source": [
    "PList = [{ 'name':'李超','sex':'男','birthday':'12-07'},{ 'name':'超人','sex':'男','birthday':'08-08'},\n",
    "               { 'name':'王刚','sex':'男','birthday':'01-21'},{ 'name':'阿狸','sex':'女','birthday':'06-21'},\n",
    "               { 'name':'杜鹃','sex':'女','birthday':'02-07'},{ 'name':'大白','sex':'女','birthday':'02-02'},\n",
    "               { 'name':'土豆','sex':'男','birthday':'08-25'},{ 'name':'华超','sex':'男','birthday':'03-21'},\n",
    "               { 'name':'Tom','sex':'男','birthday':'09-30'},{ 'name':'妖妖','sex':'未知','birthday':'10-07'},\n",
    "               { 'name':'SpideMan','sex':'男','birthday':'12-07'},{ 'name':'丫丫','sex':'女','birthday':'07-01'},\n",
    "               { 'name':'晴雯','sex':'女','birthday':'08-07'},{ 'name':'赵超','sex':'男','birthday':'08-22'},\n",
    "               { 'name':'香蕉','sex':'女','birthday':'05-06'},{ 'name':'Jeff Dean','sex':'男','birthday':'01-11'},\n",
    "               { 'name':'刘德华','sex':'男','birthday':'07-06'},{ 'name':'白白','sex':'女','birthday':'03-18'},\n",
    "               { 'name':'猩猩','sex':'男','birthday':'06-07'},{ 'name':'小黄','sex':'女','birthday':'10-01'},\n",
    "               { 'name':'孙超','sex':'男','birthday':'04-21'},{ 'name':'Geoffrey Hinton','sex':'男','birthday':'07-08'},\n",
    "               { 'name':'居里夫人','sex':'女','birthday':'06-07'},{ 'name':'崔超','sex':'男','birthday':'06-21'},\n",
    "               { 'name':'科比','sex':'男','birthday':'11-07'},{ 'name':'长颈鹿','sex':'女','birthday':'05-05'},\n",
    "               { 'name':'花花','sex':'女','birthday':'09-01'},{ 'name':'小白','sex':'女','birthday':'03-14'},\n",
    "               { 'name':'周超','sex':'男','birthday':'01-04'},{ 'name':'方超','sex':'男','birthday':'12-21'},\n",
    "               { 'name':'吴刚','sex':'男','birthday':'10-01'},{ 'name':'李四光','sex':'男','birthday':'07-07'},\n",
    "               { 'name':'郑州','sex':'男','birthday':'03-25'},{ 'name':'嬴政','sex':'男','birthday':'08-07'},\n",
    "              ]"
   ]
  },
  {
   "cell_type": "code",
   "execution_count": 34,
   "metadata": {},
   "outputs": [],
   "source": [
    "StringPList= str([{ 'name':'李超','sex':'男','birthday':'12-07'},{ 'name':'超人','sex':'男','birthday':'08-08'},\n",
    "               { 'name':'王刚','sex':'男','birthday':'01-21'},{ 'name':'阿狸','sex':'女','birthday':'06-21'},\n",
    "               { 'name':'杜鹃','sex':'女','birthday':'02-07'},{ 'name':'大白','sex':'女','birthday':'02-02'},\n",
    "               { 'name':'土豆','sex':'男','birthday':'08-25'},{ 'name':'华超','sex':'男','birthday':'03-21'},\n",
    "               { 'name':'Tom','sex':'男','birthday':'09-30'},{ 'name':'妖妖','sex':'未知','birthday':'10-07'},\n",
    "               { 'name':'SpideMan','sex':'男','birthday':'12-07'},{ 'name':'丫丫','sex':'女','birthday':'07-01'},\n",
    "               { 'name':'晴雯','sex':'女','birthday':'08-07'},{ 'name':'赵超','sex':'男','birthday':'08-22'},\n",
    "               { 'name':'香蕉','sex':'女','birthday':'05-06'},{ 'name':'Jeff Dean','sex':'男','birthday':'01-11'},\n",
    "               { 'name':'刘德华','sex':'男','birthday':'07-06'},{ 'name':'白白','sex':'女','birthday':'03-18'},\n",
    "               { 'name':'猩猩','sex':'男','birthday':'06-07'},{ 'name':'小黄','sex':'女','birthday':'10-01'},\n",
    "               { 'name':'孙超','sex':'男','birthday':'04-21'},{ 'name':'Geoffrey Hinton','sex':'男','birthday':'07-08'},\n",
    "               { 'name':'居里夫人','sex':'女','birthday':'06-07'},{ 'name':'崔超','sex':'男','birthday':'06-21'},\n",
    "               { 'name':'科比','sex':'男','birthday':'11-07'},{ 'name':'长颈鹿','sex':'女','birthday':'05-05'},\n",
    "               { 'name':'花花','sex':'女','birthday':'09-01'},{ 'name':'小白','sex':'女','birthday':'03-14'},\n",
    "               { 'name':'周超','sex':'男','birthday':'01-04'},{ 'name':'方超','sex':'男','birthday':'12-21'},\n",
    "               { 'name':'吴刚','sex':'男','birthday':'10-01'},{ 'name':'李四光','sex':'男','birthday':'07-07'},\n",
    "               { 'name':'郑州','sex':'男','birthday':'03-25'},{ 'name':'嬴政','sex':'男','birthday':'08-07'},\n",
    "              ])"
   ]
  },
  {
   "cell_type": "code",
   "execution_count": 35,
   "metadata": {
    "scrolled": true
   },
   "outputs": [
    {
     "name": "stdout",
     "output_type": "stream",
     "text": [
      "[{'name': '李超', 'sex': '男', 'birthday': '12-07'}, {'name': '超人', 'sex': '男', 'birthday': '08-08'}, {'name': '王刚', 'sex': '男', 'birthday': '01-21'}, {'name': '阿狸', 'sex': '女', 'birthday': '06-21'}, {'name': '杜鹃', 'sex': '女', 'birthday': '02-07'}, {'name': '大白', 'sex': '女', 'birthday': '02-02'}, {'name': '土豆', 'sex': '男', 'birthday': '08-25'}, {'name': '华超', 'sex': '男', 'birthday': '03-21'}, {'name': 'Tom', 'sex': '男', 'birthday': '09-30'}, {'name': '妖妖', 'sex': '未知', 'birthday': '10-07'}, {'name': 'SpideMan', 'sex': '男', 'birthday': '12-07'}, {'name': '丫丫', 'sex': '女', 'birthday': '07-01'}, {'name': '晴雯', 'sex': '女', 'birthday': '08-07'}, {'name': '赵超', 'sex': '男', 'birthday': '08-22'}, {'name': '香蕉', 'sex': '女', 'birthday': '05-06'}, {'name': 'Jeff Dean', 'sex': '男', 'birthday': '01-11'}, {'name': '刘德华', 'sex': '男', 'birthday': '07-06'}, {'name': '白白', 'sex': '女', 'birthday': '03-18'}, {'name': '猩猩', 'sex': '男', 'birthday': '06-07'}, {'name': '小黄', 'sex': '女', 'birthday': '10-01'}, {'name': '孙超', 'sex': '男', 'birthday': '04-21'}, {'name': 'Geoffrey Hinton', 'sex': '男', 'birthday': '07-08'}, {'name': '居里夫人', 'sex': '女', 'birthday': '06-07'}, {'name': '崔超', 'sex': '男', 'birthday': '06-21'}, {'name': '科比', 'sex': '男', 'birthday': '11-07'}, {'name': '长颈鹿', 'sex': '女', 'birthday': '05-05'}, {'name': '花花', 'sex': '女', 'birthday': '09-01'}, {'name': '小白', 'sex': '女', 'birthday': '03-14'}, {'name': '周超', 'sex': '男', 'birthday': '01-04'}, {'name': '方超', 'sex': '男', 'birthday': '12-21'}, {'name': '吴刚', 'sex': '男', 'birthday': '10-01'}, {'name': '李四光', 'sex': '男', 'birthday': '07-07'}, {'name': '郑州', 'sex': '男', 'birthday': '03-25'}, {'name': '嬴政', 'sex': '男', 'birthday': '08-07'}]\n"
     ]
    }
   ],
   "source": [
    "print(StringPList)"
   ]
  },
  {
   "cell_type": "code",
   "execution_count": 12,
   "metadata": {},
   "outputs": [],
   "source": [
    "NewStringPList=StringPList[1:-1].split(',')"
   ]
  },
  {
   "cell_type": "code",
   "execution_count": 13,
   "metadata": {
    "scrolled": true
   },
   "outputs": [
    {
     "name": "stdout",
     "output_type": "stream",
     "text": [
      "[\"{'name': '李超'\", \" 'sex': '男'\", \" 'birthday': '12-07'}\", \" {'name': '超人'\", \" 'sex': '男'\", \" 'birthday': '08-08'}\", \" {'name': '王刚'\", \" 'sex': '男'\", \" 'birthday': '01-21'}\", \" {'name': '阿狸'\", \" 'sex': '女'\", \" 'birthday': '06-21'}\", \" {'name': '杜鹃'\", \" 'sex': '女'\", \" 'birthday': '02-07'}\", \" {'name': '大白'\", \" 'sex': '女'\", \" 'birthday': '02-02'}\", \" {'name': '土豆'\", \" 'sex': '男'\", \" 'birthday': '08-25'}\", \" {'name': '华超'\", \" 'sex': '男'\", \" 'birthday': '03-21'}\", \" {'name': 'Tom'\", \" 'sex': '男'\", \" 'birthday': '09-30'}\", \" {'name': '妖妖'\", \" 'sex': '未知'\", \" 'birthday': '10-07'}\", \" {'name': 'SpideMan'\", \" 'sex': '男'\", \" 'birthday': '12-07'}\", \" {'name': '丫丫'\", \" 'sex': '女'\", \" 'birthday': '07-01'}\", \" {'name': '晴雯'\", \" 'sex': '女'\", \" 'birthday': '08-07'}\", \" {'name': '赵超'\", \" 'sex': '男'\", \" 'birthday': '08-22'}\", \" {'name': '香蕉'\", \" 'sex': '女'\", \" 'birthday': '05-06'}\", \" {'name': 'Jeff Dean'\", \" 'sex': '男'\", \" 'birthday': '01-11'}\", \" {'name': '刘德华'\", \" 'sex': '男'\", \" 'birthday': '07-06'}\", \" {'name': '白白'\", \" 'sex': '女'\", \" 'birthday': '03-18'}\", \" {'name': '猩猩'\", \" 'sex': '男'\", \" 'birthday': '06-07'}\", \" {'name': '小黄'\", \" 'sex': '女'\", \" 'birthday': '10-01'}\", \" {'name': '孙超'\", \" 'sex': '男'\", \" 'birthday': '04-21'}\", \" {'name': 'Geoffrey Hinton'\", \" 'sex': '男'\", \" 'birthday': '07-08'}\", \" {'name': '居里夫人'\", \" 'sex': '女'\", \" 'birthday': '06-07'}\", \" {'name': '崔超'\", \" 'sex': '男'\", \" 'birthday': '06-21'}\", \" {'name': '科比'\", \" 'sex': '男'\", \" 'birthday': '11-07'}\", \" {'name': '长颈鹿'\", \" 'sex': '女'\", \" 'birthday': '05-05'}\", \" {'name': '花花'\", \" 'sex': '女'\", \" 'birthday': '09-01'}\", \" {'name': '小白'\", \" 'sex': '女'\", \" 'birthday': '03-14'}\", \" {'name': '周超'\", \" 'sex': '男'\", \" 'birthday': '01-04'}\", \" {'name': '方超'\", \" 'sex': '男'\", \" 'birthday': '12-21'}\", \" {'name': '吴刚'\", \" 'sex': '男'\", \" 'birthday': '10-01'}\", \" {'name': '李四光'\", \" 'sex': '男'\", \" 'birthday': '07-07'}\", \" {'name': '郑州'\", \" 'sex': '男'\", \" 'birthday': '03-25'}\", \" {'name': '嬴政'\", \" 'sex': '男'\", \" 'birthday': '08-07'}\"]\n"
     ]
    }
   ],
   "source": [
    "print(NewStringPList)"
   ]
  },
  {
   "cell_type": "code",
   "execution_count": 30,
   "metadata": {},
   "outputs": [
    {
     "name": "stdout",
     "output_type": "stream",
     "text": [
      "[\" 'sex': '男'\", \" 'sex': '男'\", \" 'sex': '男'\", \" 'sex': '女'\", \" 'sex': '女'\", \" 'sex': '女'\", \" 'sex': '男'\", \" 'sex': '男'\", \" 'sex': '男'\", \" 'sex': '未知'\", \" 'sex': '男'\", \" 'sex': '女'\", \" 'sex': '女'\", \" 'sex': '男'\", \" 'sex': '女'\", \" 'sex': '男'\", \" 'sex': '男'\", \" 'sex': '女'\", \" 'sex': '男'\", \" 'sex': '女'\", \" 'sex': '男'\", \" 'sex': '男'\", \" 'sex': '女'\", \" 'sex': '男'\", \" 'sex': '男'\", \" 'sex': '女'\", \" 'sex': '女'\", \" 'sex': '女'\", \" 'sex': '男'\", \" 'sex': '男'\", \" 'sex': '男'\", \" 'sex': '男'\", \" 'sex': '男'\", \" 'sex': '男'\"]\n"
     ]
    }
   ],
   "source": [
    "List=NewStringPList[1::3]\n",
    "sList=str(List)\n",
    "print(sList)"
   ]
  },
  {
   "cell_type": "code",
   "execution_count": 33,
   "metadata": {},
   "outputs": [
    {
     "name": "stdout",
     "output_type": "stream",
     "text": [
      "0.6176470588235294\n",
      "0.35294117647058826\n"
     ]
    }
   ],
   "source": [
    "boylenrate =(len(sList)-len(sList.replace('男','')))/len(List)\n",
    "girllenrate =(len(sList)-len(sList.replace('女','')))/len(List)\n",
    "print(boylenrate)\n",
    "print(girllenrate)"
   ]
  },
  {
   "cell_type": "code",
   "execution_count": null,
   "metadata": {},
   "outputs": [],
   "source": [
    "StringPList= str([{ 'name':'李超','sex':'男','birthday':'12-07'},{ 'name':'超人','sex':'男','birthday':'08-08'},\n",
    "               { 'name':'王刚','sex':'男','birthday':'01-21'},{ 'name':'阿狸','sex':'女','birthday':'06-21'},\n",
    "               { 'name':'杜鹃','sex':'女','birthday':'02-07'},{ 'name':'大白','sex':'女','birthday':'02-02'},\n",
    "               { 'name':'土豆','sex':'男','birthday':'08-25'},{ 'name':'华超','sex':'男','birthday':'03-21'},\n",
    "               { 'name':'Tom','sex':'男','birthday':'09-30'},{ 'name':'妖妖','sex':'未知','birthday':'10-07'},\n",
    "               { 'name':'SpideMan','sex':'男','birthday':'12-07'},{ 'name':'丫丫','sex':'女','birthday':'07-01'},\n",
    "               { 'name':'晴雯','sex':'女','birthday':'08-07'},{ 'name':'赵超','sex':'男','birthday':'08-22'},\n",
    "               { 'name':'香蕉','sex':'女','birthday':'05-06'},{ 'name':'Jeff Dean','sex':'男','birthday':'01-11'},\n",
    "               { 'name':'刘德华','sex':'男','birthday':'07-06'},{ 'name':'白白','sex':'女','birthday':'03-18'},\n",
    "               { 'name':'猩猩','sex':'男','birthday':'06-07'},{ 'name':'小黄','sex':'女','birthday':'10-01'},\n",
    "               { 'name':'孙超','sex':'男','birthday':'04-21'},{ 'name':'Geoffrey Hinton','sex':'男','birthday':'07-08'},\n",
    "               { 'name':'居里夫人','sex':'女','birthday':'06-07'},{ 'name':'崔超','sex':'男','birthday':'06-21'},\n",
    "               { 'name':'科比','sex':'男','birthday':'11-07'},{ 'name':'长颈鹿','sex':'女','birthday':'05-05'},\n",
    "               { 'name':'花花','sex':'女','birthday':'09-01'},{ 'name':'小白','sex':'女','birthday':'03-14'},\n",
    "               { 'name':'周超','sex':'男','birthday':'01-04'},{ 'name':'方超','sex':'男','birthday':'12-21'},\n",
    "               { 'name':'吴刚','sex':'男','birthday':'10-01'},{ 'name':'李四光','sex':'男','birthday':'07-07'},\n",
    "               { 'name':'郑州','sex':'男','birthday':'03-25'},{ 'name':'嬴政','sex':'男','birthday':'08-07'},\n",
    "              ])"
   ]
  },
  {
   "cell_type": "code",
   "execution_count": 36,
   "metadata": {},
   "outputs": [
    {
     "name": "stdout",
     "output_type": "stream",
     "text": [
      "[{'name': '李超', 'sex': '男', 'birthday': '12-07'}, {'name': '超人', 'sex': '男', 'birthday': '08-08'}, {'name': '王刚', 'sex': '男', 'birthday': '01-21'}, {'name': '阿狸', 'sex': '女', 'birthday': '06-21'}, {'name': '杜鹃', 'sex': '女', 'birthday': '02-07'}, {'name': '大白', 'sex': '女', 'birthday': '02-02'}, {'name': '土豆', 'sex': '男', 'birthday': '08-25'}, {'name': '华超', 'sex': '男', 'birthday': '03-21'}, {'name': 'Tom', 'sex': '男', 'birthday': '09-30'}, {'name': '妖妖', 'sex': '未知', 'birthday': '10-07'}, {'name': 'SpideMan', 'sex': '男', 'birthday': '12-07'}, {'name': '丫丫', 'sex': '女', 'birthday': '07-01'}, {'name': '晴雯', 'sex': '女', 'birthday': '08-07'}, {'name': '赵超', 'sex': '男', 'birthday': '08-22'}, {'name': '香蕉', 'sex': '女', 'birthday': '05-06'}, {'name': 'Jeff Dean', 'sex': '男', 'birthday': '01-11'}, {'name': '刘德华', 'sex': '男', 'birthday': '07-06'}, {'name': '白白', 'sex': '女', 'birthday': '03-18'}, {'name': '猩猩', 'sex': '男', 'birthday': '06-07'}, {'name': '小黄', 'sex': '女', 'birthday': '10-01'}, {'name': '孙超', 'sex': '男', 'birthday': '04-21'}, {'name': 'Geoffrey Hinton', 'sex': '男', 'birthday': '07-08'}, {'name': '居里夫人', 'sex': '女', 'birthday': '06-07'}, {'name': '崔超', 'sex': '男', 'birthday': '06-21'}, {'name': '科比', 'sex': '男', 'birthday': '11-07'}, {'name': '长颈鹿', 'sex': '女', 'birthday': '05-05'}, {'name': '花花', 'sex': '女', 'birthday': '09-01'}, {'name': '小白', 'sex': '女', 'birthday': '03-14'}, {'name': '周超', 'sex': '男', 'birthday': '01-04'}, {'name': '方超', 'sex': '男', 'birthday': '12-21'}, {'name': '吴刚', 'sex': '男', 'birthday': '10-01'}, {'name': '李四光', 'sex': '男', 'birthday': '07-07'}, {'name': '郑州', 'sex': '男', 'birthday': '03-25'}, {'name': '嬴政', 'sex': '男', 'birthday': '08-07'}]\n"
     ]
    }
   ],
   "source": [
    "print(StringPList)"
   ]
  },
  {
   "cell_type": "code",
   "execution_count": 37,
   "metadata": {},
   "outputs": [
    {
     "name": "stdout",
     "output_type": "stream",
     "text": [
      "[\"{'name': '李超'\", \" 'sex': '男'\", \" 'birthday': '12-07'}\", \" {'name': '超人'\", \" 'sex': '男'\", \" 'birthday': '08-08'}\", \" {'name': '王刚'\", \" 'sex': '男'\", \" 'birthday': '01-21'}\", \" {'name': '阿狸'\", \" 'sex': '女'\", \" 'birthday': '06-21'}\", \" {'name': '杜鹃'\", \" 'sex': '女'\", \" 'birthday': '02-07'}\", \" {'name': '大白'\", \" 'sex': '女'\", \" 'birthday': '02-02'}\", \" {'name': '土豆'\", \" 'sex': '男'\", \" 'birthday': '08-25'}\", \" {'name': '华超'\", \" 'sex': '男'\", \" 'birthday': '03-21'}\", \" {'name': 'Tom'\", \" 'sex': '男'\", \" 'birthday': '09-30'}\", \" {'name': '妖妖'\", \" 'sex': '未知'\", \" 'birthday': '10-07'}\", \" {'name': 'SpideMan'\", \" 'sex': '男'\", \" 'birthday': '12-07'}\", \" {'name': '丫丫'\", \" 'sex': '女'\", \" 'birthday': '07-01'}\", \" {'name': '晴雯'\", \" 'sex': '女'\", \" 'birthday': '08-07'}\", \" {'name': '赵超'\", \" 'sex': '男'\", \" 'birthday': '08-22'}\", \" {'name': '香蕉'\", \" 'sex': '女'\", \" 'birthday': '05-06'}\", \" {'name': 'Jeff Dean'\", \" 'sex': '男'\", \" 'birthday': '01-11'}\", \" {'name': '刘德华'\", \" 'sex': '男'\", \" 'birthday': '07-06'}\", \" {'name': '白白'\", \" 'sex': '女'\", \" 'birthday': '03-18'}\", \" {'name': '猩猩'\", \" 'sex': '男'\", \" 'birthday': '06-07'}\", \" {'name': '小黄'\", \" 'sex': '女'\", \" 'birthday': '10-01'}\", \" {'name': '孙超'\", \" 'sex': '男'\", \" 'birthday': '04-21'}\", \" {'name': 'Geoffrey Hinton'\", \" 'sex': '男'\", \" 'birthday': '07-08'}\", \" {'name': '居里夫人'\", \" 'sex': '女'\", \" 'birthday': '06-07'}\", \" {'name': '崔超'\", \" 'sex': '男'\", \" 'birthday': '06-21'}\", \" {'name': '科比'\", \" 'sex': '男'\", \" 'birthday': '11-07'}\", \" {'name': '长颈鹿'\", \" 'sex': '女'\", \" 'birthday': '05-05'}\", \" {'name': '花花'\", \" 'sex': '女'\", \" 'birthday': '09-01'}\", \" {'name': '小白'\", \" 'sex': '女'\", \" 'birthday': '03-14'}\", \" {'name': '周超'\", \" 'sex': '男'\", \" 'birthday': '01-04'}\", \" {'name': '方超'\", \" 'sex': '男'\", \" 'birthday': '12-21'}\", \" {'name': '吴刚'\", \" 'sex': '男'\", \" 'birthday': '10-01'}\", \" {'name': '李四光'\", \" 'sex': '男'\", \" 'birthday': '07-07'}\", \" {'name': '郑州'\", \" 'sex': '男'\", \" 'birthday': '03-25'}\", \" {'name': '嬴政'\", \" 'sex': '男'\", \" 'birthday': '08-07'}\"]\n"
     ]
    }
   ],
   "source": [
    "NewStringPList=StringPList[1:-1].split(',')\n",
    "print(NewStringPList)"
   ]
  },
  {
   "cell_type": "code",
   "execution_count": 63,
   "metadata": {},
   "outputs": [
    {
     "name": "stdout",
     "output_type": "stream",
     "text": [
      "{\" 'birthday': '12-07'}\", \" 'birthday': '08-25'}\", \" 'birthday': '02-02'}\", \" 'birthday': '09-30'}\", \" 'birthday': '01-21'}\", \" 'birthday': '03-18'}\", \" 'birthday': '10-01'}\", \" 'birthday': '05-05'}\", \" 'birthday': '10-07'}\", \" 'birthday': '03-21'}\", \" 'birthday': '08-22'}\", \" 'birthday': '02-07'}\", \" 'birthday': '07-01'}\", \" 'birthday': '01-11'}\", \" 'birthday': '01-04'}\", \" 'birthday': '09-01'}\", \" 'birthday': '04-21'}\", \" 'birthday': '03-25'}\", \" 'birthday': '08-07'}\", \" 'birthday': '05-06'}\", \" 'birthday': '06-07'}\", \" 'birthday': '06-21'}\", \" 'birthday': '07-06'}\", \" 'birthday': '12-21'}\", \" 'birthday': '07-07'}\", \" 'birthday': '11-07'}\", \" 'birthday': '03-14'}\", \" 'birthday': '08-08'}\", \" 'birthday': '07-08'}\"}\n",
      "34\n",
      " 'birthday': '12-07'}\n"
     ]
    }
   ],
   "source": [
    "List=NewStringPList[2::3]\n",
    "NewList=set(List)\n",
    "print(NewList)\n",
    "print(len(List))\n",
    "print(NewList[0])"
   ]
  },
  {
   "cell_type": "code",
   "execution_count": 68,
   "metadata": {},
   "outputs": [
    {
     "name": "stdout",
     "output_type": "stream",
     "text": [
      "2  'birthday': '12-07'}\n",
      "1  'birthday': '08-08'}\n",
      "1  'birthday': '01-21'}\n",
      "2  'birthday': '06-21'}\n",
      "1  'birthday': '02-07'}\n",
      "1  'birthday': '02-02'}\n",
      "1  'birthday': '08-25'}\n",
      "1  'birthday': '03-21'}\n",
      "1  'birthday': '09-30'}\n",
      "1  'birthday': '10-07'}\n",
      "2  'birthday': '12-07'}\n",
      "1  'birthday': '07-01'}\n",
      "2  'birthday': '08-07'}\n",
      "1  'birthday': '08-22'}\n",
      "1  'birthday': '05-06'}\n",
      "1  'birthday': '01-11'}\n",
      "1  'birthday': '07-06'}\n",
      "1  'birthday': '03-18'}\n",
      "2  'birthday': '06-07'}\n",
      "2  'birthday': '10-01'}\n",
      "1  'birthday': '04-21'}\n",
      "1  'birthday': '07-08'}\n",
      "2  'birthday': '06-07'}\n",
      "2  'birthday': '06-21'}\n",
      "1  'birthday': '11-07'}\n",
      "1  'birthday': '05-05'}\n",
      "1  'birthday': '09-01'}\n",
      "1  'birthday': '03-14'}\n",
      "1  'birthday': '01-04'}\n",
      "1  'birthday': '12-21'}\n",
      "2  'birthday': '10-01'}\n",
      "1  'birthday': '07-07'}\n",
      "1  'birthday': '03-25'}\n",
      "2  'birthday': '08-07'}\n"
     ]
    }
   ],
   "source": [
    "\n",
    "for i in range(0,len(List),1):\n",
    "    a=0\n",
    "    for n in range(0,len(List),1):\n",
    "        if List[i]==List[n]:\n",
    "            a+=1\n",
    "    print(a,List[i])\n",
    "            \n",
    "        "
   ]
  },
  {
   "cell_type": "code",
   "execution_count": 49,
   "metadata": {},
   "outputs": [
    {
     "name": "stdout",
     "output_type": "stream",
     "text": [
      "9900\n"
     ]
    }
   ],
   "source": [
    "from math import sqrt\n",
    "def primetest(a,b):\n",
    "    c=0\n",
    "    for n in range(a,b,1):\n",
    "        for i in range(a, int(sqrt(n))+1):\n",
    "            if n % i != 0: \n",
    "                break\n",
    "        else:\n",
    "             c+=1\n",
    "    return c   \n",
    "print(primetest(100,10000))"
   ]
  },
  {
   "cell_type": "code",
   "execution_count": 45,
   "metadata": {},
   "outputs": [
    {
     "name": "stdout",
     "output_type": "stream",
     "text": [
      "1\n"
     ]
    }
   ],
   "source": []
  },
  {
   "cell_type": "markdown",
   "metadata": {},
   "source": []
  }
 ],
 "metadata": {
  "kernelspec": {
   "display_name": "Python 3",
   "language": "python",
   "name": "python3"
  },
  "language_info": {
   "codemirror_mode": {
    "name": "ipython",
    "version": 3
   },
   "file_extension": ".py",
   "mimetype": "text/x-python",
   "name": "python",
   "nbconvert_exporter": "python",
   "pygments_lexer": "ipython3",
   "version": "3.7.4"
  }
 },
 "nbformat": 4,
 "nbformat_minor": 2
}
