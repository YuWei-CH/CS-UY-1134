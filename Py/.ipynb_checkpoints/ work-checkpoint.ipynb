{
 "cells": [
  {
   "cell_type": "code",
   "execution_count": 76,
   "metadata": {},
   "outputs": [
    {
     "name": "stdout",
     "output_type": "stream",
     "text": [
      "[2, 1, 4, 3, 6, 5, 8, 7, 10, 9, 12, 11, 14, 13, 16, 15, 18, 17, 20, 19, 22, 21, 24, 23, 26, 25, 28, 27, 30, 29, 32, 31, 34, 33, 36, 35, 38, 37, 40, 39, 42, 41, 44, 43, 46, 45, 48, 47, 50, 49, 52, 51, 54, 53, 56, 55, 58, 57, 60, 59, 62, 61, 64, 63, 66, 65, 68, 67, 70, 69, 72, 71, 74, 73, 76, 75, 78, 77, 80, 79, 82, 81, 84, 83, 86, 85, 88, 87, 90, 89, 92, 91, 94, 93, 96, 95, 98, 97, 100, 99]\n"
     ]
    }
   ],
   "source": [
    "numbers = list(range(1,101))\n",
    "new_numbers = []\n",
    "for value in numbers:\n",
    "    if value%2 == 0:\n",
    "        new_numbers.append(value-1)\n",
    "    else:new_numbers.append(value+1)\n",
    "print(new_numbers)"
   ]
  },
  {
   "cell_type": "code",
   "execution_count": 77,
   "metadata": {},
   "outputs": [
    {
     "name": "stdout",
     "output_type": "stream",
     "text": [
      "{1: '小明', 2: '大黑', 3: '二狗', 4: '哟哟', 5: '布吉', 6: '蛋蛋'}\n"
     ]
    }
   ],
   "source": [
    "Dict_example = {'小明':1,'大黑':2,'二狗':3,'哟哟':4,'布吉':5,'蛋蛋':6}\n",
    "keys = list(Dict_example.keys())\n",
    "values = list(Dict_example.values())\n",
    "print(dict(zip(values,keys)))"
   ]
  },
  {
   "cell_type": "code",
   "execution_count": 86,
   "metadata": {},
   "outputs": [
    {
     "name": "stdout",
     "output_type": "stream",
     "text": [
      "[[4, 3, 5], [8, 6, 10], [12, 5, 13], [12, 9, 15], [15, 8, 17], [16, 12, 20], [20, 15, 25], [21, 20, 29], [24, 7, 25], [24, 10, 26], [24, 18, 30], [28, 21, 35], [30, 16, 34], [32, 24, 40], [35, 12, 37], [36, 15, 39], [36, 27, 45], [40, 9, 41], [40, 30, 50], [42, 40, 58], [44, 33, 55], [45, 24, 51], [45, 28, 53], [48, 14, 50], [48, 20, 52], [48, 36, 60], [52, 39, 65], [55, 48, 73], [56, 33, 65], [56, 42, 70], [60, 11, 61], [60, 25, 65], [60, 32, 68], [60, 45, 75], [63, 16, 65], [63, 60, 87], [64, 48, 80], [68, 51, 85], [70, 24, 74], [72, 21, 75], [72, 30, 78], [72, 54, 90], [72, 65, 97], [75, 40, 85], [76, 57, 95], [77, 36, 85], [80, 18, 82], [80, 39, 89], [80, 60, 100], [84, 13, 85], [84, 35, 91], [84, 63, 105], [84, 80, 116], [88, 66, 110], [90, 48, 102], [90, 56, 106], [91, 60, 109], [92, 69, 115], [96, 28, 100], [96, 40, 104], [96, 72, 120], [99, 20, 101], [100, 75, 125], [104, 78, 130], [105, 36, 111], [105, 56, 119], [105, 88, 137], [105, 100, 145], [108, 45, 117], [108, 81, 135], [110, 96, 146], [112, 15, 113], [112, 66, 130], [112, 84, 140], [116, 87, 145], [117, 44, 125], [120, 22, 122], [120, 27, 123], [120, 35, 125], [120, 50, 130], [120, 64, 136], [120, 90, 150], [120, 119, 169], [124, 93, 155], [126, 32, 130], [126, 120, 174], [128, 96, 160], [132, 55, 143], [132, 85, 157], [132, 99, 165], [135, 72, 153], [135, 84, 159], [136, 102, 170], [140, 48, 148], [140, 51, 149], [140, 105, 175], [143, 24, 145], [144, 17, 145], [144, 42, 150], [144, 60, 156], [144, 108, 180], [144, 130, 194], [147, 140, 203], [148, 111, 185], [150, 80, 170], [152, 114, 190], [153, 104, 185], [154, 72, 170], [156, 65, 169], [156, 117, 195], [156, 133, 205], [160, 36, 164], [160, 78, 178], [160, 120, 200], [164, 123, 205], [165, 52, 173], [165, 88, 187], [165, 144, 219], [168, 26, 170], [168, 49, 175], [168, 70, 182], [168, 95, 193], [168, 99, 195], [168, 126, 210], [168, 160, 232], [171, 140, 221], [172, 129, 215], [175, 60, 185], [176, 57, 185], [176, 132, 220], [180, 19, 181], [180, 33, 183], [180, 75, 195], [180, 96, 204], [180, 112, 212], [180, 135, 225], [182, 120, 218], [184, 138, 230], [187, 84, 205], [188, 141, 235], [189, 48, 195], [189, 180, 261], [192, 56, 200], [192, 80, 208], [192, 144, 240], [195, 28, 197], [195, 104, 221], [196, 147, 245], [198, 40, 202], [200, 45, 205], [200, 150, 250], [204, 85, 221], [204, 153, 255], [208, 105, 233], [208, 156, 260], [209, 120, 241], [210, 72, 222], [210, 112, 238], [210, 176, 274], [210, 200, 290], [212, 159, 265], [216, 63, 225], [216, 90, 234], [216, 162, 270], [216, 195, 291], [220, 21, 221], [220, 165, 275], [220, 192, 292], [221, 60, 229], [224, 30, 226], [224, 132, 260], [224, 168, 280], [224, 207, 305], [225, 120, 255], [225, 140, 265], [228, 95, 247], [228, 171, 285], [231, 108, 255], [231, 160, 281], [231, 220, 319], [232, 174, 290], [234, 88, 250], [236, 177, 295], [240, 44, 244], [240, 54, 246], [240, 70, 250], [240, 100, 260], [240, 117, 267], [240, 128, 272], [240, 161, 289], [240, 180, 300], [240, 238, 338], [244, 183, 305], [245, 84, 259], [247, 96, 265], [248, 186, 310], [252, 39, 255], [252, 64, 260], [252, 105, 273], [252, 115, 277], [252, 189, 315], [252, 240, 348], [253, 204, 325], [255, 32, 257], [255, 136, 289], [256, 192, 320], [260, 69, 269], [260, 195, 325], [264, 23, 265], [264, 77, 275], [264, 110, 286], [264, 170, 314], [264, 198, 330], [268, 201, 335], [270, 144, 306], [270, 168, 318], [272, 204, 340], [272, 225, 353], [273, 136, 305], [273, 180, 327], [273, 260, 377], [275, 240, 365], [275, 252, 373], [276, 115, 299], [276, 207, 345], [280, 63, 287], [280, 96, 296], [280, 102, 298], [280, 165, 325], [280, 210, 350], [284, 213, 355], [285, 68, 293], [285, 152, 323], [286, 48, 290], [288, 34, 290], [288, 84, 300], [288, 120, 312], [288, 175, 337], [288, 216, 360], [288, 260, 388], [292, 219, 365], [294, 280, 406], [296, 222, 370], [297, 60, 303], [299, 180, 349], [300, 55, 305], [300, 125, 325], [300, 160, 340], [300, 225, 375], [304, 228, 380], [304, 297, 425], [306, 208, 370], [308, 75, 317], [308, 144, 340], [308, 231, 385], [312, 25, 313], [312, 91, 325], [312, 130, 338], [312, 234, 390], [312, 266, 410], [315, 80, 325], [315, 108, 333], [315, 168, 357], [315, 196, 371], [315, 264, 411], [315, 300, 435], [316, 237, 395], [320, 72, 328], [320, 156, 356], [320, 240, 400], [323, 36, 325], [324, 135, 351], [324, 243, 405], [325, 228, 397], [328, 246, 410], [330, 104, 346], [330, 176, 374], [330, 288, 438], [332, 249, 415], [336, 45, 339], [336, 52, 340], [336, 98, 350], [336, 140, 364], [336, 190, 386], [336, 198, 390], [336, 252, 420], [336, 320, 464], [340, 189, 389], [340, 255, 425], [342, 280, 442], [344, 258, 430], [345, 152, 377], [345, 184, 391], [348, 145, 377], [348, 261, 435], [350, 120, 370], [351, 132, 375], [351, 280, 449], [352, 114, 370], [352, 135, 377], [352, 264, 440], [356, 267, 445], [357, 76, 365], [357, 340, 493], [360, 38, 362], [360, 66, 366], [360, 81, 369], [360, 105, 375], [360, 150, 390], [360, 192, 408], [360, 224, 424], [360, 270, 450], [360, 319, 481], [360, 325, 485], [360, 357, 507], [364, 27, 365], [364, 240, 436], [364, 273, 455], [368, 276, 460], [372, 155, 403], [372, 279, 465], [374, 168, 410], [375, 200, 425], [376, 282, 470], [377, 336, 505], [378, 96, 390], [378, 360, 522], [380, 261, 461], [380, 285, 475], [384, 112, 400], [384, 160, 416], [384, 288, 480], [385, 132, 407], [385, 180, 425], [385, 336, 511], [388, 291, 485], [390, 56, 394], [390, 208, 442], [391, 120, 409], [392, 231, 455], [392, 294, 490], [396, 80, 404], [396, 165, 429], [396, 203, 445], [396, 255, 471], [396, 297, 495], [399, 40, 401], [399, 380, 551], [400, 90, 410], [400, 195, 445], [400, 300, 500], [403, 396, 565], [404, 303, 505], [405, 216, 459], [405, 252, 477], [408, 119, 425], [408, 145, 433], [408, 170, 442], [408, 306, 510], [412, 309, 515], [416, 87, 425], [416, 210, 466], [416, 312, 520], [418, 240, 482], [420, 29, 421], [420, 65, 425], [420, 77, 427], [420, 144, 444], [420, 153, 447], [420, 175, 455], [420, 224, 476], [420, 315, 525], [420, 341, 541], [420, 352, 548], [420, 400, 580], [424, 318, 530], [425, 168, 457], [428, 321, 535], [429, 72, 435], [432, 51, 435], [432, 126, 450], [432, 180, 468], [432, 324, 540], [432, 390, 582], [435, 232, 493], [435, 308, 533], [436, 327, 545], [437, 84, 445], [440, 42, 442], [440, 99, 451], [440, 279, 521], [440, 330, 550], [440, 384, 584], [441, 112, 455], [441, 420, 609], [442, 120, 458], [444, 185, 481], [444, 333, 555], [448, 60, 452], [448, 264, 520], [448, 336, 560], [448, 414, 610], [450, 240, 510], [450, 280, 530], [452, 339, 565], [455, 156, 481], [455, 300, 545], [456, 133, 475], [456, 190, 494], [456, 217, 505], [456, 342, 570], [459, 220, 509], [459, 312, 555], [460, 345, 575], [460, 429, 629], [462, 216, 510], [462, 320, 562], [462, 440, 638], [464, 348, 580], [465, 248, 527], [465, 368, 593], [468, 155, 493], [468, 176, 500], [468, 195, 507], [468, 351, 585], [468, 399, 615], [472, 354, 590], [475, 132, 493], [476, 93, 485], [476, 357, 595], [480, 31, 481], [480, 88, 488], [480, 108, 492], [480, 140, 500], [480, 200, 520], [480, 234, 534], [480, 256, 544], [480, 322, 578], [480, 360, 600], [480, 476, 676], [483, 44, 485], [483, 460, 667], [484, 363, 605], [488, 366, 610], [490, 168, 518], [492, 205, 533], [492, 369, 615], [493, 276, 565], [494, 192, 530], [495, 100, 505], [495, 156, 519], [495, 264, 561], [495, 308, 583], [495, 432, 657], [496, 372, 620], [500, 375, 625], [504, 78, 510], [504, 128, 520], [504, 147, 525], [504, 210, 546], [504, 230, 554], [504, 285, 579], [504, 297, 585], [504, 378, 630], [504, 455, 679], [504, 480, 696], [506, 408, 650], [508, 381, 635], [510, 64, 514], [510, 272, 578], [512, 384, 640], [513, 184, 545], [513, 420, 663], [516, 215, 559], [516, 387, 645], [520, 117, 533], [520, 138, 538], [520, 231, 569], [520, 390, 650], [524, 393, 655], [525, 92, 533], [525, 180, 555], [525, 280, 595], [525, 440, 685], [525, 500, 725], [527, 336, 625], [528, 46, 530], [528, 154, 550], [528, 171, 555], [528, 220, 572], [528, 340, 628], [528, 396, 660], [528, 455, 697], [532, 165, 557], [532, 399, 665], [536, 402, 670], [539, 252, 595], [540, 57, 543], [540, 99, 549], [540, 225, 585], [540, 288, 612], [540, 336, 636], [540, 405, 675], [544, 33, 545], [544, 408, 680], [544, 450, 706], [546, 272, 610], [546, 360, 654], [546, 520, 754], [548, 411, 685], [550, 480, 730], [550, 504, 746], [551, 240, 601], [552, 161, 575], [552, 230, 598], [552, 385, 673], [552, 414, 690], [555, 296, 629], [556, 417, 695], [560, 75, 565], [560, 126, 574], [560, 192, 592], [560, 204, 596], [560, 273, 623], [560, 330, 650], [560, 420, 700], [561, 252, 615], [561, 400, 689], [564, 235, 611], [564, 423, 705], [567, 144, 585], [567, 540, 783], [568, 426, 710], [570, 136, 586], [570, 304, 646], [572, 96, 580], [572, 315, 653], [572, 429, 715], [572, 555, 797], [575, 48, 577], [576, 68, 580], [576, 168, 600], [576, 240, 624], [576, 350, 674], [576, 432, 720], [576, 520, 776], [580, 435, 725], [584, 438, 730], [585, 84, 591], [585, 220, 625], [585, 312, 663], [585, 364, 689], [588, 91, 595], [588, 245, 637], [588, 441, 735], [588, 560, 812], [589, 300, 661], [592, 444, 740], [594, 120, 606], [595, 204, 629], [595, 468, 757], [596, 447, 745], [598, 360, 698], [600, 110, 610], [600, 135, 615], [600, 175, 625], [600, 250, 650], [600, 320, 680], [600, 450, 750], [600, 481, 769], [600, 595, 845], [604, 453, 755], [605, 528, 803], [608, 105, 617], [608, 456, 760], [608, 594, 850], [609, 200, 641], [609, 580, 841], [612, 35, 613], [612, 255, 663], [612, 416, 740], [612, 459, 765], [615, 328, 697], [616, 150, 634], [616, 288, 680], [616, 363, 715], [616, 462, 770], [620, 465, 775], [621, 100, 629], [624, 50, 626], [624, 182, 650], [624, 260, 676], [624, 315, 699], [624, 407, 745], [624, 468, 780], [624, 532, 820], [627, 360, 723], [627, 364, 725], [628, 471, 785], [629, 540, 829], [630, 160, 650], [630, 216, 666], [630, 336, 714], [630, 392, 742], [630, 528, 822], [630, 600, 870], [632, 474, 790], [636, 265, 689], [636, 477, 795], [637, 420, 763], [640, 144, 656], [640, 312, 712], [640, 480, 800], [644, 333, 725], [644, 483, 805], [645, 344, 731], [646, 72, 650], [648, 189, 675], [648, 270, 702], [648, 486, 810], [648, 585, 873], [650, 456, 794], [651, 260, 701], [651, 620, 899], [652, 489, 815], [656, 492, 820], [660, 63, 663], [660, 121, 671], [660, 208, 692], [660, 259, 709], [660, 275, 715], [660, 352, 748], [660, 425, 785], [660, 495, 825], [660, 576, 876], [663, 180, 687], [663, 616, 905], [664, 498, 830], [665, 228, 703], [665, 432, 793], [667, 156, 685], [668, 501, 835], [672, 90, 678], [672, 104, 680], [672, 185, 697], [672, 196, 700], [672, 280, 728], [672, 380, 772], [672, 396, 780], [672, 504, 840], [672, 621, 915], [672, 640, 928], [675, 52, 677], [675, 360, 765], [675, 420, 795], [676, 507, 845], [680, 111, 689], [680, 153, 697], [680, 378, 778], [680, 510, 850], [684, 37, 685], [684, 285, 741], [684, 513, 855], [684, 560, 884], [688, 516, 860], [690, 304, 754], [690, 368, 782], [692, 519, 865], [693, 140, 707], [693, 176, 715], [693, 324, 765], [693, 480, 843], [693, 660, 957], [696, 203, 725], [696, 290, 754], [696, 522, 870], [697, 696, 985], [700, 240, 740], [700, 255, 745], [700, 429, 821], [700, 525, 875], [702, 264, 750], [702, 560, 898], [703, 504, 865], [704, 228, 740], [704, 270, 754], [704, 528, 880], [705, 376, 799], [708, 295, 767], [708, 531, 885], [712, 534, 890], [713, 216, 745], [714, 152, 730], [714, 680, 986], [715, 120, 725], [715, 624, 949], [716, 537, 895], [720, 76, 724], [720, 85, 725], [720, 132, 732], [720, 162, 738], [720, 210, 750], [720, 300, 780], [720, 351, 801], [720, 384, 816], [720, 448, 848], [720, 483, 867], [720, 540, 900], [720, 638, 962], [720, 650, 970], [724, 543, 905], [725, 108, 733], [728, 54, 730], [728, 429, 845], [728, 480, 872], [728, 546, 910], [728, 615, 953], [732, 305, 793], [732, 549, 915], [735, 252, 777], [735, 392, 833], [735, 616, 959], [736, 273, 785], [736, 552, 920], [740, 555, 925], [741, 288, 795], [741, 580, 941], [744, 217, 775], [744, 310, 806], [744, 558, 930], [748, 195, 773], [748, 336, 820], [748, 561, 935], [750, 400, 850], [752, 564, 940], [756, 117, 765], [756, 192, 780], [756, 315, 819], [756, 345, 831], [756, 533, 925], [756, 567, 945], [759, 280, 809], [759, 612, 975], [760, 39, 761], [760, 171, 779], [760, 522, 922], [760, 570, 950], [764, 573, 955], [765, 96, 771], [765, 408, 867], [765, 476, 901], [765, 520, 925], [768, 224, 800], [768, 320, 832], [768, 576, 960], [770, 264, 814], [770, 360, 850], [772, 579, 965], [775, 168, 793], [776, 582, 970], [777, 464, 905], [780, 112, 788], [780, 143, 793], [780, 207, 807], [780, 325, 845], [780, 416, 884], [780, 451, 901], [780, 585, 975], [782, 240, 818], [783, 56, 785], [784, 105, 791], [784, 462, 910], [784, 588, 980], [788, 591, 985], [792, 69, 795], [792, 160, 808], [792, 231, 825], [792, 330, 858], [792, 406, 890], [792, 510, 942], [792, 594, 990], [795, 424, 901], [796, 597, 995], [798, 80, 802], [800, 180, 820], [800, 369, 881], [800, 390, 890], [800, 600, 1000], [804, 335, 871], [805, 276, 851], [805, 348, 877], [810, 432, 918], [810, 504, 954], [816, 238, 850], [816, 287, 865], [816, 290, 866], [816, 340, 884], [819, 208, 845], [819, 308, 875], [819, 408, 915], [819, 540, 981], [825, 232, 857], [825, 260, 865], [825, 440, 935], [828, 205, 853], [828, 345, 897], [832, 174, 850], [832, 420, 932], [836, 123, 845], [836, 480, 964], [837, 116, 845], [840, 41, 841], [840, 58, 842], [840, 130, 850], [840, 154, 854], [840, 189, 861], [840, 245, 875], [840, 288, 888], [840, 306, 894], [840, 350, 910], [840, 448, 952], [840, 475, 965], [840, 495, 975], [847, 396, 935], [850, 336, 914], [851, 420, 949], [852, 355, 923], [855, 204, 879], [855, 456, 969], [858, 144, 870], [864, 102, 870], [864, 252, 900], [864, 360, 936], [864, 473, 985], [870, 464, 986], [874, 168, 890], [875, 300, 925], [876, 365, 949], [880, 84, 884], [880, 198, 902], [880, 285, 925], [880, 429, 979], [882, 224, 910], [884, 240, 916], [884, 387, 965], [888, 259, 925], [888, 370, 962], [891, 180, 909], [896, 120, 904], [899, 60, 901], [900, 95, 905], [900, 165, 915], [900, 301, 949], [900, 375, 975], [910, 312, 962], [912, 215, 937], [912, 266, 950], [912, 380, 988], [920, 129, 929], [920, 207, 943], [924, 43, 925], [924, 143, 935], [924, 225, 951], [925, 372, 997], [936, 75, 939], [936, 273, 975], [936, 310, 986], [936, 352, 1000], [945, 240, 975], [945, 248, 977], [945, 324, 999], [950, 264, 986], [952, 186, 970], [957, 124, 965], [960, 62, 962], [960, 176, 976], [960, 216, 984], [960, 280, 1000], [966, 88, 970], [969, 108, 975], [975, 140, 985]]\n"
     ]
    },
    {
     "data": {
      "text/plain": [
       "881"
      ]
     },
     "execution_count": 86,
     "metadata": {},
     "output_type": "execute_result"
    }
   ],
   "source": [
    "count = 0\n",
    "l=[]\n",
    "for a in range(1001):\n",
    "        for b in range(1001):\n",
    "            for c in  range (1001):\n",
    "                if (c > a and a>b) and a**2 + b**2 == c**2:\n",
    "                    l.append([a,b,c])\n",
    "print (l)                \n",
    "len(l)"
   ]
  },
  {
   "cell_type": "code",
   "execution_count": 75,
   "metadata": {},
   "outputs": [
    {
     "name": "stdout",
     "output_type": "stream",
     "text": [
      "[2.2145]\n"
     ]
    },
    {
     "name": "stderr",
     "output_type": "stream",
     "text": [
      "/opt/anaconda3/lib/python3.7/site-packages/ipykernel_launcher.py:15: RuntimeWarning: divide by zero encountered in log\n",
      "  from ipykernel import kernelapp as app\n"
     ]
    },
    {
     "data": {
      "image/png": "[encoded data removed]",
      "text/plain": [
       "<Figure size 432x288 with 1 Axes>"
      ]
     },
     "metadata": {
      "needs_background": "light"
     },
     "output_type": "display_data"
    }
   ],
   "source": [
    "import math\n",
    "import matplotlib.pyplot as plt  \n",
    "import numpy as np         \n",
    "l=[]\n",
    "x=1\n",
    "\n",
    "while x > 0:\n",
    "    if round(math.log(x),2) ==round(math.sin(x),2):\n",
    "        l.append(round(x,4))\n",
    "        break\n",
    "    x+=0.00001\n",
    "\n",
    "print(l)\n",
    "x=np.arange(0,4)\n",
    "y=np.log(x)\n",
    "y2=np.sin(x)\n",
    "plt.plot(x,y)\n",
    "plt.plot(x,y2)\n",
    "plt.show()\n"
   ]
  },
  {
   "cell_type": "code",
   "execution_count": null,
   "metadata": {},
   "outputs": [],
   "source": []
  },
  {
   "cell_type": "code",
   "execution_count": 56,
   "metadata": {},
   "outputs": [
    {
     "data": {
      "text/plain": [
       "'bad'"
      ]
     },
     "execution_count": 56,
     "metadata": {},
     "output_type": "execute_result"
    }
   ],
   "source": [
    "def choose_watermelon(a,b,c,d,e,f):\n",
    "    if d == 'shaohu':\n",
    "        if c=='chenmen':\n",
    "            return 'bad'\n",
    "        elif  c=='zhuoxiang':\n",
    "            if e == 'aoxian':\n",
    "                return 'bad'\n",
    "            else :\n",
    "                return 'good'\n",
    "        else :\n",
    "            if c== 'qingcui':\n",
    "                return 'bad'\n",
    "    elif d == 'qingxi':\n",
    "        if b == 'quansuo':\n",
    "            return 'good'\n",
    "        elif b == 'xiaoquan' :\n",
    "            if a =='qinglv':\n",
    "                return 'good'\n",
    "            elif a == 'wuhei' and f == 'yingting':\n",
    "                return 'good'\n",
    "            elif a == 'wuhei' and f == 'ruannian':\n",
    "                return 'bad'\n",
    "            else:\n",
    "                return 'good'\n",
    "        else: \n",
    "            return 'good'\n",
    "    else:\n",
    "        if d == 'mohu':\n",
    "            if a == 'qinglv':\n",
    "                return 'bad'\n",
    "            if a == 'wuhei':\n",
    "                return 'good'\n",
    "            if a == 'qianbai':\n",
    "                return 'good'\n",
    "\n",
    "choose_watermelon('qinglv',0,0,'mohu',0,0)"
   ]
  },
  {
   "cell_type": "code",
   "execution_count": 12,
   "metadata": {},
   "outputs": [
    {
     "data": {
      "image/png": "[encoded data removed]",
      "text/plain": [
       "<Figure size 432x288 with 1 Axes>"
      ]
     },
     "metadata": {
      "needs_background": "light"
     },
     "output_type": "display_data"
    }
   ],
   "source": [
    "import math\n",
    "import matplotlib.pyplot as plt  \n",
    "import numpy as np\n",
    "k_2= 2.5 * math.pow(10,-4)\n",
    "k_1 =4 * math.pow(10,-3)\n",
    "\n",
    "l=np.arange(1,10)\n",
    "y=(-2*1*k_2)/(2*1*k_2-(l*k_1))\n",
    "\n",
    "plt.plot(l,y)\n",
    "plt.show()"
   ]
  },
  {
   "cell_type": "code",
   "execution_count": 13,
   "metadata": {},
   "outputs": [
    {
     "data": {
      "text/plain": [
       "0.03225806451612903"
      ]
     },
     "execution_count": 13,
     "metadata": {},
     "output_type": "execute_result"
    }
   ],
   "source": [
    "y[3]"
   ]
  },
  {
   "cell_type": "code",
   "execution_count": 14,
   "metadata": {},
   "outputs": [],
   "source": [
    "?np.arange"
   ]
  },
  {
   "cell_type": "code",
   "execution_count": null,
   "metadata": {},
   "outputs": [],
   "source": []
  },
  {
   "cell_type": "code",
   "execution_count": 18,
   "metadata": {},
   "outputs": [
    {
     "name": "stdout",
     "output_type": "stream",
     "text": [
      "[2, 3, 5, 7, 11, 13, 17, 19, 23, 29, 31, 37, 41, 43, 47, 53, 59, 61, 67, 71, 73, 79, 83, 89, 97, 101, 103, 107, 109, 113, 127, 131, 137, 139, 149, 151, 157, 163, 167, 173, 179, 181, 191, 193, 197, 199, 211, 223, 227, 229, 233, 239, 241, 251, 257, 263, 269, 271, 277, 281, 283, 293, 307, 311, 313, 317, 331, 337, 347, 349, 353, 359, 367, 373, 379, 383, 389, 397, 401, 409, 419, 421, 431, 433, 439, 443, 449, 457, 461, 463, 467, 479, 487, 491, 499, 503, 509, 521, 523, 541, 547, 557, 563, 569, 571, 577, 587, 593, 599, 601, 607, 613, 617, 619, 631, 641, 643, 647, 653, 659, 661, 673, 677, 683, 691, 701, 709, 719, 727, 733, 739, 743, 751, 757, 761, 769, 773, 787, 797, 809, 811, 821, 823, 827, 829, 839, 853, 857, 859, 863, 877, 881, 883, 887, 907, 911, 919, 929, 937, 941, 947, 953, 967, 971, 977, 983, 991, 997]\n"
     ]
    }
   ],
   "source": [
    "numbers = [2]\n",
    "d = list(range(3,1001))\n",
    "\n",
    "def search (i):\n",
    "    b=0\n",
    "    for n in numbers:\n",
    "        if i >997:\n",
    "            return numbers\n",
    "        if  d[i]%n == 0 :\n",
    "            b=1\n",
    "            return search (i+1)\n",
    "    if b == 0:\n",
    "            numbers.append(d[i])\n",
    "    return search (i+1)\n",
    "    \n",
    "search (0)\n",
    "print (numbers)"
   ]
  },
  {
   "cell_type": "code",
   "execution_count": 19,
   "metadata": {},
   "outputs": [
    {
     "data": {
      "text/plain": [
       "[2,\n",
       " 3,\n",
       " 5,\n",
       " 7,\n",
       " 11,\n",
       " 13,\n",
       " 17,\n",
       " 19,\n",
       " 23,\n",
       " 29,\n",
       " 31,\n",
       " 37,\n",
       " 41,\n",
       " 43,\n",
       " 47,\n",
       " 53,\n",
       " 59,\n",
       " 61,\n",
       " 67,\n",
       " 71,\n",
       " 73,\n",
       " 79,\n",
       " 83,\n",
       " 89,\n",
       " 97,\n",
       " 101,\n",
       " 103,\n",
       " 107,\n",
       " 109,\n",
       " 113,\n",
       " 127,\n",
       " 131,\n",
       " 137,\n",
       " 139,\n",
       " 149,\n",
       " 151,\n",
       " 157,\n",
       " 163,\n",
       " 167,\n",
       " 173,\n",
       " 179,\n",
       " 181,\n",
       " 191,\n",
       " 193,\n",
       " 197,\n",
       " 199,\n",
       " 211,\n",
       " 223,\n",
       " 227,\n",
       " 229,\n",
       " 233,\n",
       " 239,\n",
       " 241,\n",
       " 251,\n",
       " 257,\n",
       " 263,\n",
       " 269,\n",
       " 271,\n",
       " 277,\n",
       " 281,\n",
       " 283,\n",
       " 293,\n",
       " 307,\n",
       " 311,\n",
       " 313,\n",
       " 317,\n",
       " 331,\n",
       " 337,\n",
       " 347,\n",
       " 349,\n",
       " 353,\n",
       " 359,\n",
       " 367,\n",
       " 373,\n",
       " 379,\n",
       " 383,\n",
       " 389,\n",
       " 397,\n",
       " 401,\n",
       " 409,\n",
       " 419,\n",
       " 421,\n",
       " 431,\n",
       " 433,\n",
       " 439,\n",
       " 443,\n",
       " 449,\n",
       " 457,\n",
       " 461,\n",
       " 463,\n",
       " 467,\n",
       " 479,\n",
       " 487,\n",
       " 491,\n",
       " 499,\n",
       " 503,\n",
       " 509,\n",
       " 521,\n",
       " 523,\n",
       " 541,\n",
       " 547,\n",
       " 557,\n",
       " 563,\n",
       " 569,\n",
       " 571,\n",
       " 577,\n",
       " 587,\n",
       " 593,\n",
       " 599,\n",
       " 601,\n",
       " 607,\n",
       " 613,\n",
       " 617,\n",
       " 619,\n",
       " 631,\n",
       " 641,\n",
       " 643,\n",
       " 647,\n",
       " 653,\n",
       " 659,\n",
       " 661,\n",
       " 673,\n",
       " 677,\n",
       " 683,\n",
       " 691,\n",
       " 701,\n",
       " 709,\n",
       " 719,\n",
       " 727,\n",
       " 733,\n",
       " 739,\n",
       " 743,\n",
       " 751,\n",
       " 757,\n",
       " 761,\n",
       " 769,\n",
       " 773,\n",
       " 787,\n",
       " 797,\n",
       " 809,\n",
       " 811,\n",
       " 821,\n",
       " 823,\n",
       " 827,\n",
       " 829,\n",
       " 839,\n",
       " 853,\n",
       " 857,\n",
       " 859,\n",
       " 863,\n",
       " 877,\n",
       " 881,\n",
       " 883,\n",
       " 887,\n",
       " 907,\n",
       " 911,\n",
       " 919,\n",
       " 929,\n",
       " 937,\n",
       " 941,\n",
       " 947,\n",
       " 953,\n",
       " 967,\n",
       " 971,\n",
       " 977,\n",
       " 983,\n",
       " 991,\n",
       " 997]"
      ]
     },
     "execution_count": 19,
     "metadata": {},
     "output_type": "execute_result"
    }
   ],
   "source": [
    "numbers"
   ]
  },
  {
   "cell_type": "code",
   "execution_count": 46,
   "metadata": {},
   "outputs": [
    {
     "data": {
      "image/png": "[encoded data removed]",
      "text/plain": [
       "<Figure size 432x288 with 1 Axes>"
      ]
     },
     "metadata": {
      "needs_background": "light"
     },
     "output_type": "display_data"
    }
   ],
   "source": [
    "import matplotlib.pyplot as plt  \n",
    "import numpy as np\n",
    "d={}\n",
    "def rabbit(i):   \n",
    "    if i == 1 or i ==2:\n",
    "        return 1\n",
    "    if i not in d:\n",
    "        d[i] = rabbit(i-1)+rabbit(i-2)\n",
    "    return d[i]\n",
    "rabbit(100)\n",
    "\n",
    "x=np.arange(4,100)\n",
    "y = []\n",
    "for i in x:\n",
    "    y.append(rabbit(i-1)/rabbit(i))\n",
    "plt.plot(x,y)\n",
    "plt.show()"
   ]
  },
  {
   "cell_type": "code",
   "execution_count": 47,
   "metadata": {},
   "outputs": [
    {
     "data": {
      "text/plain": [
       "0.6180339887498949"
      ]
     },
     "execution_count": 47,
     "metadata": {},
     "output_type": "execute_result"
    }
   ],
   "source": [
    "y[-1]"
   ]
  },
  {
   "cell_type": "code",
   "execution_count": 53,
   "metadata": {},
   "outputs": [
    {
     "data": {
      "text/plain": [
       "1.0"
      ]
     },
     "execution_count": 53,
     "metadata": {},
     "output_type": "execute_result"
    }
   ],
   "source": [
    "import math\n",
    "(1-math.sqrt(5))/2\n",
    "(1+math.sqrt(5))/2\n",
    "(1+math.sqrt(5))/2+((1-math.sqrt(5))/2)\n"
   ]
  },
  {
   "cell_type": "code",
   "execution_count": 4,
   "metadata": {},
   "outputs": [
    {
     "ename": "ModuleNotFoundError",
     "evalue": "No module named 'randomiprint'",
     "output_type": "error",
     "traceback": [
      "\u001b[0;31m---------------------------------------------------------------------------\u001b[0m",
      "\u001b[0;31mModuleNotFoundError\u001b[0m                       Traceback (most recent call last)",
      "\u001b[0;32m<ipython-input-4-2446975cf868>\u001b[0m in \u001b[0;36m<module>\u001b[0;34m\u001b[0m\n\u001b[0;32m----> 1\u001b[0;31m \u001b[0;32mimport\u001b[0m \u001b[0mrandomiprint\u001b[0m\u001b[0;34m\u001b[0m\u001b[0;34m\u001b[0m\u001b[0m\n\u001b[0m\u001b[1;32m      2\u001b[0m \u001b[0;32mwhile\u001b[0m \u001b[0;36m1\u001b[0m\u001b[0;34m:\u001b[0m\u001b[0mrandomiprint\u001b[0m\u001b[0;34m(\u001b[0m\u001b[0mrandom\u001b[0m\u001b[0;34m.\u001b[0m\u001b[0mchoice\u001b[0m\u001b[0;34m(\u001b[0m\u001b[0;34m'll  '\u001b[0m\u001b[0;34m)\u001b[0m\u001b[0;34m,\u001b[0m \u001b[0mend\u001b[0m\u001b[0;34m=\u001b[0m\u001b[0;34m''\u001b[0m\u001b[0;34m)\u001b[0m\u001b[0;34m\u001b[0m\u001b[0;34m\u001b[0m\u001b[0m\n",
      "\u001b[0;31mModuleNotFoundError\u001b[0m: No module named 'randomiprint'"
     ]
    }
   ],
   "source": [
    "\n",
    "while 1:randomiprint(random.choice('ll  '), end='')"
   ]
  },
  {
   "cell_type": "code",
   "execution_count": null,
   "metadata": {},
   "outputs": [],
   "source": []
  }
 ],
 "metadata": {
  "kernelspec": {
   "display_name": "Python 3",
   "language": "python",
   "name": "python3"
  },
  "language_info": {
   "codemirror_mode": {
    "name": "ipython",
    "version": 3
   },
   "file_extension": ".py",
   "mimetype": "text/x-python",
   "name": "python",
   "nbconvert_exporter": "python",
   "pygments_lexer": "ipython3",
   "version": "3.7.4"
  }
 },
 "nbformat": 4,
 "nbformat_minor": 2
}
