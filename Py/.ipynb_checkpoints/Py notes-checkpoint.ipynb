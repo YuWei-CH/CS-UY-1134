{
 "cells": [
  {
   "cell_type": "code",
   "execution_count": 20,
   "id": "b7104049",
   "metadata": {},
   "outputs": [
    {
     "name": "stdout",
     "output_type": "stream",
     "text": [
      "The Zen of Python, by Tim Peters\n",
      "\n",
      "Beautiful is better than ugly.\n",
      "Explicit is better than implicit.\n",
      "Simple is better than complex.\n",
      "Complex is better than complicated.\n",
      "Flat is better than nested.\n",
      "Sparse is better than dense.\n",
      "Readability counts.\n",
      "Special cases aren't special enough to break the rules.\n",
      "Although practicality beats purity.\n",
      "Errors should never pass silently.\n",
      "Unless explicitly silenced.\n",
      "In the face of ambiguity, refuse the temptation to guess.\n",
      "There should be one-- and preferably only one --obvious way to do it.\n",
      "Although that way may not be obvious at first unless you're Dutch.\n",
      "Now is better than never.\n",
      "Although never is often better than *right* now.\n",
      "If the implementation is hard to explain, it's a bad idea.\n",
      "If the implementation is easy to explain, it may be a good idea.\n",
      "Namespaces are one honking great idea -- let's do more of those!\n"
     ]
    }
   ],
   "source": [
    "#python 之禅\n",
    "import this\n"
   ]
  },
  {
   "cell_type": "code",
   "execution_count": 3,
   "id": "28bbfacf",
   "metadata": {},
   "outputs": [
    {
     "name": "stdout",
     "output_type": "stream",
     "text": [
      "01345678\n",
      "013\n",
      "0134567\n",
      "0357\n",
      "0134567801345678\n",
      "01345678hello\n",
      "hello \n",
      "world\n",
      "hello \\nworld\n"
     ]
    }
   ],
   "source": [
    "str='01345678'\n",
    "print(str)\n",
    "print(str[0:3])\n",
    "print(str[:-1])\n",
    "print(str[0:7:2])\n",
    "print(str*2)\n",
    "print(str+\"hello\")\n",
    "\n",
    "\n",
    "print(\"hello \\nworld\")\n",
    "print(r'hello \\nworld')"
   ]
  },
  {
   "cell_type": "code",
   "execution_count": 5,
   "id": "2e2e47a9",
   "metadata": {
    "scrolled": false
   },
   "outputs": [
    {
     "name": "stdout",
     "output_type": "stream",
     "text": [
      "\n",
      "\n",
      "按下 enter 键后退出。hdeh\n"
     ]
    },
    {
     "data": {
      "text/plain": [
       "'hdeh'"
      ]
     },
     "execution_count": 5,
     "metadata": {},
     "output_type": "execute_result"
    }
   ],
   "source": [
    "input(\"\\n\\n按下 enter 键后退出。\") # input convert any input words to String type and return it"
   ]
  },
  {
   "cell_type": "code",
   "execution_count": 2,
   "id": "9cab8e8b",
   "metadata": {},
   "outputs": [
    {
     "name": "stdout",
     "output_type": "stream",
     "text": [
      "a\n",
      "b\n",
      "xy"
     ]
    }
   ],
   "source": [
    "print(\"a\")\n",
    "print(\"b\")\n",
    "print(\"x\",end=\"\")\n",
    "print(\"y\",end=\"\")"
   ]
  },
  {
   "cell_type": "code",
   "execution_count": 3,
   "id": "8d8fd45b",
   "metadata": {},
   "outputs": [
    {
     "name": "stdout",
     "output_type": "stream",
     "text": [
      "1 1 1\n",
      "1 2 hi\n"
     ]
    }
   ],
   "source": [
    "a=b=c=1\n",
    "print(a,b,c)\n",
    "a,b,c = 1,2,\"hi\"\n",
    "print(a,b,c)\n"
   ]
  },
  {
   "cell_type": "code",
   "execution_count": 20,
   "id": "9bebe55d",
   "metadata": {},
   "outputs": [
    {
     "name": "stdout",
     "output_type": "stream",
     "text": [
      "peter\n",
      "pete\n",
      "ter\n",
      "pete\n",
      "True\n",
      "Peter\n",
      "5\n",
      "PETER\n",
      "peter\n"
     ]
    }
   ],
   "source": [
    "# String\n",
    "str = \"peter\"\n",
    "print(str)\n",
    "print(str[0:4])\n",
    "print(str[2:])\n",
    "print(str[-6:-1])\n",
    "print(\"p\" in str)#某个字符串是否被另外一个包含\n",
    "print(str.capitalize())\n",
    "print(len(str))\n",
    "print(str.upper())\n",
    "print(str.lower())"
   ]
  },
  {
   "cell_type": "code",
   "execution_count": 26,
   "id": "b863ef9d",
   "metadata": {},
   "outputs": [
    {
     "name": "stdout",
     "output_type": "stream",
     "text": [
      "['abc', 10, 'dfg', 10.5, True]\n",
      "['abc', 10, 'dfg', 10.5]\n",
      "['abc', 'dfg']\n",
      "['abc', 10, 'dfg', 10.5, False]\n",
      "[9, 10.5, False]\n",
      "[4, 3, 2, 1]\n",
      "9\n",
      "[1, 2, 3, 4, 5, 6, 7, 8, 9, 10, 11, 12]\n",
      "[2, 3, 4, 5, 6, 7, 8, 9, 10, 11, 12]\n",
      "True\n"
     ]
    }
   ],
   "source": [
    "# List\n",
    "list=[\"abc\",10,\"dfg\",10.5,True]\n",
    "print(list)\n",
    "print(list[0:4])\n",
    "print(list[0:4:2])#步长是2\n",
    "\n",
    "list[4] = False\n",
    "print(list)\n",
    "list[0:3] = [9]#0到3都设置成9\n",
    "print(list)\n",
    "\n",
    "list_num = [1,2,3,4]\n",
    "reverse = list_num[-1::-1] # 第一个-1表示从倒数第一位开始读取，中间为“ ”代表截止为最后一位，步长-1代表倒序读取\n",
    "print(reverse)\n",
    "\n",
    "list = [1,2,3,4,5,6,7,8,9]\n",
    "print(len(list))\n",
    "list = list + [10,11,12]\n",
    "print(list)\n",
    "del list[0]\n",
    "print(list)\n",
    "print(3 in list)"
   ]
  },
  {
   "cell_type": "code",
   "execution_count": 42,
   "id": "9d8922ca",
   "metadata": {},
   "outputs": [
    {
     "name": "stdout",
     "output_type": "stream",
     "text": [
      "('abc', 934, 'uiuw', 10.4, True)\n",
      "abc\n",
      "(934, 'uiuw')\n",
      "('uiuw', 10.4)\n",
      "('abc', 934, 'uiuw', 10.4, True, 'hi', 'my f')\n",
      "['google', 'facebook', 'amazon', 'twitter']\n",
      "(1, 2, 3, 4, 5, 6)\n",
      "6\n"
     ]
    },
    {
     "ename": "NameError",
     "evalue": "name 'tup3' is not defined",
     "output_type": "error",
     "traceback": [
      "\u001b[0;31m---------------------------------------------------------------------------\u001b[0m",
      "\u001b[0;31mNameError\u001b[0m                                 Traceback (most recent call last)",
      "\u001b[0;32m<ipython-input-42-728f4b0e1351>\u001b[0m in \u001b[0;36m<module>\u001b[0;34m\u001b[0m\n\u001b[1;32m     22\u001b[0m \u001b[0mprint\u001b[0m\u001b[0;34m(\u001b[0m\u001b[0mlen\u001b[0m\u001b[0;34m(\u001b[0m\u001b[0mtup3\u001b[0m\u001b[0;34m)\u001b[0m\u001b[0;34m)\u001b[0m\u001b[0;34m\u001b[0m\u001b[0;34m\u001b[0m\u001b[0m\n\u001b[1;32m     23\u001b[0m \u001b[0;32mdel\u001b[0m \u001b[0mtup3\u001b[0m \u001b[0;31m#tuple无法修改内部元素，所以删除的illegal的，但是这一整个tuple被删除\u001b[0m\u001b[0;34m\u001b[0m\u001b[0;34m\u001b[0m\u001b[0m\n\u001b[0;32m---> 24\u001b[0;31m \u001b[0mprint\u001b[0m\u001b[0;34m(\u001b[0m\u001b[0mtup3\u001b[0m\u001b[0;34m)\u001b[0m\u001b[0;34m\u001b[0m\u001b[0;34m\u001b[0m\u001b[0m\n\u001b[0m\u001b[1;32m     25\u001b[0m \u001b[0;34m\u001b[0m\u001b[0m\n\u001b[1;32m     26\u001b[0m \u001b[0;31m#严禁修改数组\u001b[0m\u001b[0;34m\u001b[0m\u001b[0;34m\u001b[0m\u001b[0;34m\u001b[0m\u001b[0m\n",
      "\u001b[0;31mNameError\u001b[0m: name 'tup3' is not defined"
     ]
    }
   ],
   "source": [
    "# tuple 类似于List但是不能修改\n",
    "tuple1 = ('abc',934,'uiuw',10.4,True)\n",
    "tuple2= ('hi','my f')\n",
    "print(tuple1)\n",
    "print(tuple1[0])\n",
    "print(tuple1[1:3])\n",
    "print(tuple1[2:4])\n",
    "print(tuple1 + tuple2)\n",
    "\n",
    "\"\"\"\n",
    "tuple(iteralbe)\n",
    "将可迭代系列数据类型转换为tuple\n",
    "\"\"\"\n",
    "list1=[\"google\",\"facebook\",\"amazon\",\"twitter\"]\n",
    "tuple3=(list1)\n",
    "print(tuple3)\n",
    "\n",
    "tup1 = (1,2,3)\n",
    "tup2 = (4,5,6)\n",
    "tup3 = tup1 + tup2\n",
    "print(tup3)\n",
    "print(len(tup3))\n",
    "del tup3 #tuple无法修改内部元素，所以删除的illegal的，但是这一整个tuple被删除\n",
    "print(tup3)\n",
    "\n",
    "#严禁修改数组\n",
    "tuple[0]='dfg' #会报错，illegal action---'tuple' object does not support item assignment"
   ]
  },
  {
   "cell_type": "code",
   "execution_count": 62,
   "id": "80ded232",
   "metadata": {},
   "outputs": [
    {
     "name": "stdout",
     "output_type": "stream",
     "text": [
      "{'Jinan', 'Hello', 'Zibo', 'hello', 'hi'}\n",
      "{'Jinan', 'Hello', 'Zibo', 'and,or,no', 'hello', 'why not', 'hi'}\n",
      "{'Hello', 'Zibo', 'and,or,no', 'hello', 'why not', 'hi'}\n",
      "Hello\n",
      "在的哥\n",
      "{2, 4}\n",
      "{1, 2, 3, 4, 5, 7, 9}\n",
      "{1, 3, 5}\n",
      "{2, 4, 7, 9}\n"
     ]
    }
   ],
   "source": [
    "# Set 里面不会包含重复的元素\n",
    "setdemo= {'hi','hello','Jinan','Zibo','hi','Hello'}\n",
    "print(setdemo) #输出结果会遵循 ACSII 的顺序，upper>lower,alphabetical order\n",
    "setdemo.add(\"why not\")\n",
    "setdemo.update([\"and,or,no\"])#update也可以增加，里面的元素会是list，tuple，dict\n",
    "print(setdemo)\n",
    "setdemo.remove('Jinan')#删除set中的元素\n",
    "print(setdemo)\n",
    "p = setdemo.pop() #set 集合的 pop 方法会对集合进行无序的排列，然后将这个无序排列集合的左面第一个元素进行删除\n",
    "print(p)\n",
    "\n",
    "# 判断set中是否有某个元素\n",
    "if 'hi' in setdemo:\n",
    "    print('在的哥')\n",
    "else:\n",
    "    print('哟,真的不在')\n",
    "    \n",
    "#集合运算\n",
    "set1={1,2,3,4,5}\n",
    "set2={1,3,5,7,9}\n",
    "print(set1-set2) #a与b的差集 == a 中有那些 b中没有\n",
    "print(set1 | set2) #a与b的并集\n",
    "print(set1 & set2) #a与b的交集，a b中相同的\n",
    "print(set1^set2) # a 和 b 中不同时存在的元素"
   ]
  },
  {
   "cell_type": "code",
   "execution_count": 57,
   "id": "408b8ae5",
   "metadata": {},
   "outputs": [
    {
     "name": "stdout",
     "output_type": "stream",
     "text": [
      "value-1\n",
      "你好\n",
      "name:peter\n",
      "Yuwei\n",
      "{'birth': 1226, 'boy?': True, 'age': 18, 'school': 'NYU'}\n",
      "dict_keys(['birth', 'boy?', 'age', 'school'])\n",
      "dict_values([1226, True, 18, 'NYU'])\n",
      "{'birth': 1226, 'boy?': True, 'school': 'NYU'}\n",
      "33\n"
     ]
    }
   ],
   "source": [
    "# Dictionary 字典是无序的对象集合,利用 Key-Value 获取\n",
    "dict={}\n",
    "dict['key1'] = \"value-1\"\n",
    "dict[2]=\"你好\"\n",
    "print(dict['key1'])\n",
    "print(dict[2])\n",
    "\n",
    "demodict = {'name':'peter','birth':1226,'boy?':True,'age':18}\n",
    "print(\"name:\" + demodict[\"name\"])\n",
    "demodict[\"name\"] = \"Yuwei\"#修改字典某一值\n",
    "demodict[\"school\"] = \"NYU\"#增加键值\n",
    "print(demodict['name']) \n",
    "demodict.pop('name') #删除某个值\n",
    "print(demodict)\n",
    "\n",
    "#输出所有的key和value\n",
    "print(demodict.keys())\n",
    "print(demodict.values())\n",
    "\n",
    "del demodict['age']\n",
    "print(demodict)\n",
    "demodict.clear()#清空字典内部的内容\n",
    "del demodict#删除字典\n",
    "\n",
    "\"\"\"\n",
    "dict的特性：\n",
    "1.同一个键不能出现两次。创建时如果同一个键被赋值两次，后一个值会被记住\n",
    "2.健值必须不可变，所以num，String，tuple都可以，但是list不可以，due to list is mutable\n",
    "\"\"\"\n",
    "dict1 = {\"name\":11,\"name\":33}\n",
    "print(dict1[\"name\"])"
   ]
  },
  {
   "cell_type": "code",
   "execution_count": 52,
   "id": "4fbc92ed",
   "metadata": {},
   "outputs": [
    {
     "ename": "NameError",
     "evalue": "name 's' is not defined",
     "output_type": "error",
     "traceback": [
      "\u001b[0;31m---------------------------------------------------------------------------\u001b[0m",
      "\u001b[0;31mNameError\u001b[0m                                 Traceback (most recent call last)",
      "\u001b[0;32m<ipython-input-52-1e959b4e2abc>\u001b[0m in \u001b[0;36m<module>\u001b[0;34m\u001b[0m\n\u001b[1;32m      1\u001b[0m \u001b[0;31m# Conversion\u001b[0m\u001b[0;34m\u001b[0m\u001b[0;34m\u001b[0m\u001b[0;34m\u001b[0m\u001b[0m\n\u001b[1;32m      2\u001b[0m \u001b[0;34m\u001b[0m\u001b[0m\n\u001b[0;32m----> 3\u001b[0;31m \u001b[0mtuple\u001b[0m\u001b[0;34m(\u001b[0m\u001b[0ms\u001b[0m\u001b[0;34m)\u001b[0m\u001b[0;31m# s转换为tuple\u001b[0m\u001b[0;34m\u001b[0m\u001b[0;34m\u001b[0m\u001b[0m\n\u001b[0m\u001b[1;32m      4\u001b[0m \u001b[0mlist\u001b[0m\u001b[0;34m(\u001b[0m\u001b[0ms\u001b[0m\u001b[0;34m)\u001b[0m\u001b[0;31m# s转换为list\u001b[0m\u001b[0;34m\u001b[0m\u001b[0;34m\u001b[0m\u001b[0m\n\u001b[1;32m      5\u001b[0m \u001b[0mset\u001b[0m\u001b[0;34m(\u001b[0m\u001b[0ms\u001b[0m\u001b[0;34m)\u001b[0m\u001b[0;31m# s转换为set\u001b[0m\u001b[0;34m\u001b[0m\u001b[0;34m\u001b[0m\u001b[0m\n",
      "\u001b[0;31mNameError\u001b[0m: name 's' is not defined"
     ]
    }
   ],
   "source": [
    "# Conversion\n",
    "\n",
    "tuple(s)# s转换为tuple\n",
    "list(s)# s转换为list\n",
    "set(s)# s转换为set\n",
    "dict(d)# d转换为dictionary，但是d必须是（key，value）格式的tuple/list"
   ]
  },
  {
   "cell_type": "code",
   "execution_count": 28,
   "id": "c2a778f7",
   "metadata": {},
   "outputs": [
    {
     "data": {
      "text/plain": [
       "'\\n此\\n乃\\n多\\n行\\n注\\n释\\n'"
      ]
     },
     "execution_count": 28,
     "metadata": {},
     "output_type": "execute_result"
    }
   ],
   "source": [
    "\"\"\"\n",
    "此\n",
    "乃\n",
    "多\n",
    "行\n",
    "注\n",
    "释\n",
    "\"\"\""
   ]
  },
  {
   "cell_type": "code",
   "execution_count": 35,
   "id": "5021c2b5",
   "metadata": {},
   "outputs": [
    {
     "name": "stdout",
     "output_type": "stream",
     "text": [
      "2.1\n",
      "1\n",
      "16679880978201\n",
      "2\n",
      "21\n",
      "False\n",
      "True\n",
      "True\n",
      "False\n",
      "True\n",
      "False\n"
     ]
    }
   ],
   "source": [
    "a=21\n",
    "b=10\n",
    "c=0\n",
    "\n",
    "a+b\n",
    "a-b\n",
    "a*b\n",
    "print(a/b)# 包含float\n",
    "print(a%b)# 取余/取模\n",
    "print(a**b)# a的b次方\n",
    "print(a//b)# 除法，向下取整\n",
    "c += a # c=c+a,所有运算符都可以\n",
    "print(c)\n",
    "\n",
    "\n",
    "print(a==b)\n",
    "print(a!=b)\n",
    "print(a>b)\n",
    "print(a<b)\n",
    "print(a>=b)\n",
    "print(a<=b)"
   ]
  },
  {
   "cell_type": "code",
   "execution_count": 6,
   "id": "dbc98604",
   "metadata": {},
   "outputs": [
    {
     "name": "stdout",
     "output_type": "stream",
     "text": [
      "1\n",
      "59\n",
      "58\n",
      "-52\n"
     ]
    }
   ],
   "source": [
    "# Python 位运算\n",
    "a = 0b00110011\n",
    "b = 0b00001001\n",
    "\n",
    "print(a&b)\n",
    "print(a|b)\n",
    "print(a^b)\n",
    "print(~a)"
   ]
  },
  {
   "cell_type": "code",
   "execution_count": null,
   "id": "cba92b1d",
   "metadata": {},
   "outputs": [],
   "source": [
    "#数学函数\n",
    "\n",
    "math.abs(x) #绝对值 \n",
    "math.ceil(x)#取上值\n",
    "math.exp(x)#e的x次幂(ex)\n",
    "math.flow(x)#取下值\n",
    "math.log(x)#取对数\n",
    "math.log10(x)#取10基对数\n",
    "math.max()#返回给定序列的最大值\n",
    "math.min()#返回给定序列的最小值\n",
    "math.round(x [,n])#四舍五入，n代表小数位数\n",
    "math.sqrt()#返回数字的平方根\n",
    "math.random()#随机数\n",
    "math.shuffle(list[])#将序列的所有元素随机排序\n",
    "\"\"\"常量\"\"\"\n",
    "pi\n",
    "e"
   ]
  },
  {
   "cell_type": "code",
   "execution_count": 12,
   "id": "567b4288",
   "metadata": {},
   "outputs": [
    {
     "name": "stdout",
     "output_type": "stream",
     "text": [
      "line hello world\n",
      "syw'unbengable'\n",
      "syw\n",
      " hello\n"
     ]
    }
   ],
   "source": [
    "#转义字符\n",
    "\n",
    "print(\"line \\\n",
    "hello \\\n",
    "world\")\n",
    "\n",
    "print(\"syw\\'unbengable'\")#\\用来转义，展现后面的内容\n",
    "print(\"syw\\n hello\")# 换行\n",
    "\n"
   ]
  },
  {
   "cell_type": "code",
   "execution_count": null,
   "id": "a411bc68",
   "metadata": {},
   "outputs": [],
   "source": []
  },
  {
   "cell_type": "code",
   "execution_count": null,
   "id": "b2bc7206",
   "metadata": {},
   "outputs": [],
   "source": []
  }
 ],
 "metadata": {
  "kernelspec": {
   "display_name": "Python 3",
   "language": "python",
   "name": "python3"
  },
  "language_info": {
   "codemirror_mode": {
    "name": "ipython",
    "version": 3
   },
   "file_extension": ".py",
   "mimetype": "text/x-python",
   "name": "python",
   "nbconvert_exporter": "python",
   "pygments_lexer": "ipython3",
   "version": "3.8.8"
  }
 },
 "nbformat": 4,
 "nbformat_minor": 5
}
