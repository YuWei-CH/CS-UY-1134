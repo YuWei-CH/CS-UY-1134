{
 "cells": [
  {
   "cell_type": "code",
   "execution_count": 9,
   "id": "a360bc46",
   "metadata": {},
   "outputs": [],
   "source": [
    "People_List = [{ 'name':'李超','sex':'男','birthday':'12-07'},{ 'name':'超人','sex':'男','birthday':'08-08'},\n",
    "               { 'name':'王刚','sex':'男','birthday':'01-21'},{ 'name':'阿狸','sex':'女','birthday':'06-21'},\n",
    "               { 'name':'杜鹃','sex':'女','birthday':'06-07'},{ 'name':'大白','sex':'女','birthday':'02-02'},\n",
    "               { 'name':'土豆','sex':'男','birthday':'08-25'},{ 'name':'华超','sex':'男','birthday':'03-21'},\n",
    "               { 'name':'Tom','sex':'男','birthday':'09-30'},{ 'name':'妖妖','sex':'未知','birthday':'10-07'},\n",
    "               { 'name':'SpideMan','sex':'男','birthday':'12-07'},{ 'name':'丫丫','sex':'女','birthday':'07-01'},\n",
    "               { 'name':'晴雯','sex':'女','birthday':'08-07'},{ 'name':'赵超','sex':'男','birthday':'08-22'},\n",
    "               { 'name':'香蕉','sex':'女','birthday':'05-06'},{ 'name':'Jeff Dean','sex':'男','birthday':'01-11'},\n",
    "               { 'name':'刘德华','sex':'男','birthday':'07-06'},{ 'name':'白白','sex':'女','birthday':'03-18'},\n",
    "               { 'name':'猩猩','sex':'男','birthday':'06-07'},{ 'name':'小黄','sex':'女','birthday':'10-01'},\n",
    "               { 'name':'孙超','sex':'男','birthday':'04-21'},{ 'name':'Geoffrey Hinton','sex':'男','birthday':'07-08'},\n",
    "               { 'name':'居里夫人','sex':'女','birthday':'06-07'},{ 'name':'崔男男','sex':'男','birthday':'06-21'},\n",
    "               { 'name':'科比','sex':'男','birthday':'11-07'},{ 'name':'长颈鹿','sex':'女','birthday':'05-05'},\n",
    "               { 'name':'花花','sex':'女','birthday':'09-01'},{ 'name':'小白','sex':'女','birthday':'03-14'},\n",
    "               { 'name':'周超','sex':'男','birthday':'01-04'},{ 'name':'方超','sex':'男','birthday':'12-21'},\n",
    "               { 'name':'吴刚','sex':'男','birthday':'10-01'},{ 'name':'李四光','sex':'男','birthday':'07-07'},\n",
    "               { 'name':'郑州','sex':'男','birthday':'03-25'},{ 'name':'嬴政','sex':'男','birthday':'08-07'}]"
   ]
  },
  {
   "cell_type": "code",
   "execution_count": 10,
   "id": "f9006d14",
   "metadata": {},
   "outputs": [
    {
     "name": "stdout",
     "output_type": "stream",
     "text": [
      "[{'name': '李超', 'sex': '男', 'birthday': '12-07'}, {'name': '超人', 'sex': '男', 'birthday': '08-08'}, {'name': '王刚', 'sex': '男', 'birthday': '01-21'}, {'name': '阿狸', 'sex': '女', 'birthday': '06-21'}, {'name': '杜鹃', 'sex': '女', 'birthday': '06-07'}, {'name': '大白', 'sex': '女', 'birthday': '02-02'}, {'name': '土豆', 'sex': '男', 'birthday': '08-25'}, {'name': '华超', 'sex': '男', 'birthday': '03-21'}, {'name': 'Tom', 'sex': '男', 'birthday': '09-30'}, {'name': '妖妖', 'sex': '未知', 'birthday': '10-07'}, {'name': 'SpideMan', 'sex': '男', 'birthday': '12-07'}, {'name': '丫丫', 'sex': '女', 'birthday': '07-01'}, {'name': '晴雯', 'sex': '女', 'birthday': '08-07'}, {'name': '赵超', 'sex': '男', 'birthday': '08-22'}, {'name': '香蕉', 'sex': '女', 'birthday': '05-06'}, {'name': 'Jeff Dean', 'sex': '男', 'birthday': '01-11'}, {'name': '刘德华', 'sex': '男', 'birthday': '07-06'}, {'name': '白白', 'sex': '女', 'birthday': '03-18'}, {'name': '猩猩', 'sex': '男', 'birthday': '06-07'}, {'name': '小黄', 'sex': '女', 'birthday': '10-01'}, {'name': '孙超', 'sex': '男', 'birthday': '04-21'}, {'name': 'Geoffrey Hinton', 'sex': '男', 'birthday': '07-08'}, {'name': '居里夫人', 'sex': '女', 'birthday': '06-07'}, {'name': '崔男男', 'sex': '男', 'birthday': '06-21'}, {'name': '科比', 'sex': '男', 'birthday': '11-07'}, {'name': '长颈鹿', 'sex': '女', 'birthday': '05-05'}, {'name': '花花', 'sex': '女', 'birthday': '09-01'}, {'name': '小白', 'sex': '女', 'birthday': '03-14'}, {'name': '周超', 'sex': '男', 'birthday': '01-04'}, {'name': '方超', 'sex': '男', 'birthday': '12-21'}, {'name': '吴刚', 'sex': '男', 'birthday': '10-01'}, {'name': '李四光', 'sex': '男', 'birthday': '07-07'}, {'name': '郑州', 'sex': '男', 'birthday': '03-25'}, {'name': '嬴政', 'sex': '男', 'birthday': '08-07'}]\n"
     ]
    }
   ],
   "source": [
    "print(People_List)"
   ]
  },
  {
   "cell_type": "code",
   "execution_count": 38,
   "id": "5257ed1d",
   "metadata": {},
   "outputs": [],
   "source": [
    "bir = list()\n",
    "for i in People_List:\n",
    "    bir.append(i['birthday'])"
   ]
  },
  {
   "cell_type": "code",
   "execution_count": 39,
   "id": "26d90d46",
   "metadata": {},
   "outputs": [
    {
     "name": "stdout",
     "output_type": "stream",
     "text": [
      "['12-07', '08-08', '01-21', '06-21', '06-07', '02-02', '08-25', '03-21', '09-30', '10-07', '12-07', '07-01', '08-07', '08-22', '05-06', '01-11', '07-06', '03-18', '06-07', '10-01', '04-21', '07-08', '06-07', '06-21', '11-07', '05-05', '09-01', '03-14', '01-04', '12-21', '10-01', '07-07', '03-25', '08-07']\n"
     ]
    }
   ],
   "source": []
  },
  {
   "cell_type": "code",
   "execution_count": 40,
   "id": "a6f5d4ff",
   "metadata": {},
   "outputs": [
    {
     "name": "stdout",
     "output_type": "stream",
     "text": [
      "{'12-21', '07-06', '08-22', '09-30', '07-01', '01-11', '01-04', '02-02', '08-07', '10-07', '07-08', '06-21', '03-25', '08-25', '08-08', '03-18', '09-01', '10-01', '01-21', '06-07', '07-07', '11-07', '04-21', '05-05', '05-06', '12-07', '03-21', '03-14'}\n"
     ]
    }
   ],
   "source": []
  },
  {
   "cell_type": "code",
   "execution_count": 54,
   "id": "4f30f502",
   "metadata": {},
   "outputs": [
    {
     "name": "stdout",
     "output_type": "stream",
     "text": [
      "['08-08', '06-21', '02-02', '03-21', '10-07', '07-01', '08-22', '01-11', '03-18', '07-08', '06-21', '05-05', '03-14', '12-21', '10-01', '07-07', '08-07']\n"
     ]
    }
   ],
   "source": []
  },
  {
   "cell_type": "code",
   "execution_count": 52,
   "id": "c92e274c",
   "metadata": {},
   "outputs": [
    {
     "name": "stdout",
     "output_type": "stream",
     "text": [
      "['12-07', '08-08', '01-21', '06-21', '06-07', '02-02', '08-25', '03-21', '09-30', '10-07', '12-07', '07-01', '08-07', '08-22', '05-06', '01-11', '07-06', '03-18', '06-07', '10-01', '04-21', '07-08', '06-07', '06-21', '11-07', '05-05', '09-01', '03-14', '01-04', '12-21', '10-01', '07-07', '03-25', '08-07']\n"
     ]
    }
   ],
   "source": []
  },
  {
   "cell_type": "code",
   "execution_count": null,
   "id": "7d3df7df",
   "metadata": {},
   "outputs": [],
   "source": []
  },
  {
   "cell_type": "code",
   "execution_count": 18,
   "id": "6fb57450",
   "metadata": {},
   "outputs": [
    {
     "name": "stdout",
     "output_type": "stream",
     "text": [
      "08-07\n",
      "06-07\n",
      "06-21\n",
      "10-01\n",
      "12-07\n",
      "6\n",
      "        \n",
      "['12-07', '06-07', '06-07', '06-21', '10-01', '08-07']\n",
      "6\n"
     ]
    }
   ],
   "source": [
    "# data clean, pick up the birthday\n",
    "People_List = [{ 'name':'李超','sex':'男','birthday':'12-07'},{ 'name':'超人','sex':'男','birthday':'08-08'},\n",
    "               { 'name':'王刚','sex':'男','birthday':'01-21'},{ 'name':'阿狸','sex':'女','birthday':'06-21'},\n",
    "               { 'name':'杜鹃','sex':'女','birthday':'06-07'},{ 'name':'大白','sex':'女','birthday':'02-02'},\n",
    "               { 'name':'土豆','sex':'男','birthday':'08-25'},{ 'name':'华超','sex':'男','birthday':'03-21'},\n",
    "               { 'name':'Tom','sex':'男','birthday':'09-30'},{ 'name':'妖妖','sex':'未知','birthday':'10-07'},\n",
    "               { 'name':'SpideMan','sex':'男','birthday':'12-07'},{ 'name':'丫丫','sex':'女','birthday':'07-01'},\n",
    "               { 'name':'晴雯','sex':'女','birthday':'08-07'},{ 'name':'赵超','sex':'男','birthday':'08-22'},\n",
    "               { 'name':'香蕉','sex':'女','birthday':'05-06'},{ 'name':'Jeff Dean','sex':'男','birthday':'01-11'},\n",
    "               { 'name':'刘德华','sex':'男','birthday':'07-06'},{ 'name':'白白','sex':'女','birthday':'03-18'},\n",
    "               { 'name':'猩猩','sex':'男','birthday':'06-07'},{ 'name':'小黄','sex':'女','birthday':'10-01'},\n",
    "               { 'name':'孙超','sex':'男','birthday':'04-21'},{ 'name':'Geoffrey Hinton','sex':'男','birthday':'07-08'},\n",
    "               { 'name':'居里夫人','sex':'女','birthday':'06-07'},{ 'name':'崔男男','sex':'男','birthday':'06-21'},\n",
    "               { 'name':'科比','sex':'男','birthday':'11-07'},{ 'name':'长颈鹿','sex':'女','birthday':'05-05'},\n",
    "               { 'name':'花花','sex':'女','birthday':'09-01'},{ 'name':'小白','sex':'女','birthday':'03-14'},\n",
    "               { 'name':'周超','sex':'男','birthday':'01-04'},{ 'name':'方超','sex':'男','birthday':'12-21'},\n",
    "               { 'name':'吴刚','sex':'男','birthday':'10-01'},{ 'name':'李四光','sex':'男','birthday':'07-07'},\n",
    "               { 'name':'郑州','sex':'男','birthday':'03-25'},{ 'name':'嬴政','sex':'男','birthday':'08-07'}]\n",
    "birth = list()\n",
    "for i in People_List:\n",
    "    birth.append(i['birthday'])\n",
    "bir_set = set(birth)\n",
    "\n",
    "# first method\n",
    "count_fir = 0\n",
    "for item in bir_set:\n",
    "    if(birth.count(item)>1):\n",
    "        print(item)\n",
    "        count_fir+=birth.count(item)-1\n",
    "print(count_fir)\n",
    "        \n",
    "print(\"        \") #change line\n",
    "    \n",
    "# second method\n",
    "for j in bir_set:\n",
    "    birth.remove(j)\n",
    "print(birth)\n",
    "print(len(birth))"
   ]
  },
  {
   "cell_type": "code",
   "execution_count": null,
   "id": "ba351feb",
   "metadata": {},
   "outputs": [],
   "source": [
    "wsh work"
   ]
  },
  {
   "cell_type": "code",
   "execution_count": 19,
   "id": "fa0a7b3b",
   "metadata": {},
   "outputs": [
    {
     "name": "stdout",
     "output_type": "stream",
     "text": [
      "男女比例为： 1.6153846153846154 \n",
      " 共有 5 个学生生日重合\n"
     ]
    }
   ],
   "source": [
    "People_List = [ { 'name':'李超','sex':'男','birthday':'12-07'},{ 'name':'超人','sex':'男','birthday':'08-08'},\n",
    "                { 'name':'王刚','sex':'男','birthday':'01-21'},{ 'name':'阿狸','sex':'女','birthday':'06-21'},\n",
    "                { 'name':'杜鹃','sex':'女','birthday':'02-07'},{ 'name':'大白','sex':'女','birthday':'02-02'},\n",
    "                { 'name':'土豆','sex':'男','birthday':'08-25'},{ 'name':'华超','sex':'男','birthday':'03-21'},\n",
    "                { 'name':'Tom','sex':'男','birthday':'09-30'},{ 'name':'妖妖','sex':'未知','birthday':'10-07'},\n",
    "                { 'name':'SpideMan','sex':'男','birthday':'12-07'},{ 'name':'丫丫','sex':'女','birthday':'07-01'},\n",
    "                { 'name':'晴雯','sex':'女','birthday':'08-07'},{ 'name':'赵超','sex':'男','birthday':'08-22'},\n",
    "                { 'name':'香蕉','sex':'女','birthday':'05-06'},{ 'name':'Jeff Dean','sex':'男','birthday':'01-11'},\n",
    "                { 'name':'刘德华','sex':'男','birthday':'07-06'},{ 'name':'白白','sex':'女','birthday':'03-18'},\n",
    "                { 'name':'猩猩','sex':'男','birthday':'06-07'},{ 'name':'小黄','sex':'女','birthday':'10-01'},\n",
    "                { 'name':'孙超','sex':'男','birthday':'04-21'},{ 'name':'Geoffrey Hinton','sex':'男','birthday':'07-08'},\n",
    "                { 'name':'居里夫人','sex':'女','birthday':'06-07'},{ 'name':'崔超','sex':'男','birthday':'06-21'},\n",
    "                { 'name':'科比','sex':'男','birthday':'11-07'},{ 'name':'长颈鹿','sex':'女','birthday':'05-05'},\n",
    "                { 'name':'花花','sex':'女','birthday':'09-01'},{ 'name':'小白','sex':'女','birthday':'03-14'},\n",
    "                { 'name':'周超','sex':'男','birthday':'01-04'},{ 'name':'方超','sex':'男','birthday':'12-21'},\n",
    "                { 'name':'吴刚','sex':'男','birthday':'10-01'},{ 'name':'李四光','sex':'男','birthday':'07-07'},\n",
    "                { 'name':'郑州','sex':'男','birthday':'03-25'},{ 'name':'嬴政','sex':'男','birthday':'08-07'},\n",
    "                ]\n",
    "count=0\n",
    "count2=0\n",
    "list1=[]\n",
    "birth=''\n",
    "birthdayCount=[]\n",
    "for x in range(0,len(People_List)):\n",
    "    if People_List[x]['sex'] == '男': \n",
    "        count+=1\n",
    "    else :\n",
    "        count2+=1\n",
    "    list1.append(People_List[x]['birthday'])    \n",
    "print('男女比例为：',count/count2,'\\n','共有',len(People_List)-len(list(set(list1))),'个学生生日重合')\n"
   ]
  },
  {
   "cell_type": "code",
   "execution_count": null,
   "id": "b10e697b",
   "metadata": {},
   "outputs": [],
   "source": [
    "sunhe HW"
   ]
  },
  {
   "cell_type": "code",
   "execution_count": 20,
   "id": "30d32389",
   "metadata": {},
   "outputs": [
    {
     "name": "stdout",
     "output_type": "stream",
     "text": [
      "1.75\n",
      "5\n"
     ]
    }
   ],
   "source": [
    "List = [{ 'name':'李超','sex':'男','birthday':'12-07'},{ 'name':'超人','sex':'男','birthday':'08-08'},\n",
    "               { 'name':'王刚','sex':'男','birthday':'01-21'},{ 'name':'阿狸','sex':'女','birthday':'06-21'},\n",
    "               { 'name':'杜鹃','sex':'女','birthday':'02-07'},{ 'name':'大白','sex':'女','birthday':'02-02'},\n",
    "               { 'name':'土豆','sex':'男','birthday':'08-25'},{ 'name':'华超','sex':'男','birthday':'03-21'},\n",
    "               { 'name':'Tom','sex':'男','birthday':'09-30'},{ 'name':'妖妖','sex':'未知','birthday':'10-07'},\n",
    "               { 'name':'SpideMan','sex':'男','birthday':'12-07'},{ 'name':'丫丫','sex':'女','birthday':'07-01'},\n",
    "               { 'name':'晴雯','sex':'女','birthday':'08-07'},{ 'name':'赵超','sex':'男','birthday':'08-22'},\n",
    "               { 'name':'香蕉','sex':'女','birthday':'05-06'},{ 'name':'Jeff Dean','sex':'男','birthday':'01-11'},\n",
    "               { 'name':'刘德华','sex':'男','birthday':'07-06'},{ 'name':'白白','sex':'女','birthday':'03-18'},\n",
    "               { 'name':'猩猩','sex':'男','birthday':'06-07'},{ 'name':'小黄','sex':'女','birthday':'10-01'},\n",
    "               { 'name':'孙超','sex':'男','birthday':'04-21'},{ 'name':'Geoffrey Hinton','sex':'男','birthday':'07-08'},\n",
    "               { 'name':'居里夫人','sex':'女','birthday':'06-07'},{ 'name':'崔超','sex':'男','birthday':'06-21'},\n",
    "               { 'name':'科比','sex':'男','birthday':'11-07'},{ 'name':'长颈鹿','sex':'女','birthday':'05-05'},\n",
    "               { 'name':'花花','sex':'女','birthday':'09-01'},{ 'name':'小白','sex':'女','birthday':'03-14'},\n",
    "               { 'name':'周超','sex':'男','birthday':'01-04'},{ 'name':'方超','sex':'男','birthday':'12-21'},\n",
    "               { 'name':'吴刚','sex':'男','birthday':'10-01'},{ 'name':'李四光','sex':'男','birthday':'07-07'},\n",
    "               { 'name':'郑州','sex':'男','birthday':'03-25'},{ 'name':'嬴政','sex':'男','birthday':'08-07'},\n",
    "              ]\n",
    "\n",
    "male=female=0\n",
    "for i in range(0,len(List)):\n",
    "    if List[i]['sex']=='男':\n",
    "        male+=1\n",
    "    else:\n",
    "        if List[i]['sex']=='女':\n",
    "            female+=1\n",
    "print(male/female)\n",
    "\n",
    "list1=[]\n",
    "for i in range(0,len(List)):\n",
    "    list1.append(List[i]['birthday'])\n",
    "print(len(list1)-len(set(list1)))\n",
    "   "
   ]
  },
  {
   "cell_type": "code",
   "execution_count": null,
   "id": "f88bcb7e",
   "metadata": {},
   "outputs": [],
   "source": []
  }
 ],
 "metadata": {
  "kernelspec": {
   "display_name": "Python 3",
   "language": "python",
   "name": "python3"
  },
  "language_info": {
   "codemirror_mode": {
    "name": "ipython",
    "version": 3
   },
   "file_extension": ".py",
   "mimetype": "text/x-python",
   "name": "python",
   "nbconvert_exporter": "python",
   "pygments_lexer": "ipython3",
   "version": "3.8.8"
  }
 },
 "nbformat": 4,
 "nbformat_minor": 5
}
